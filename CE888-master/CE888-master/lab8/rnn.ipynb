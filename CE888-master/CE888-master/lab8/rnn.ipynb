{
  "cells": [
    {
      "cell_type": "markdown",
      "metadata": {
        "id": "view-in-github"
      },
      "source": [
        "<a href=\"https://colab.research.google.com/github/albanda/CE888/blob/master/lab8/rnn.ipynb\" target=\"_parent\"><img src=\"https://colab.research.google.com/assets/colab-badge.svg\" alt=\"Open In Colab\"/></a>"
      ]
    },
    {
      "cell_type": "markdown",
      "metadata": {
        "id": "gS1IIAS-bcb-"
      },
      "source": [
        "# Learning from Sequences: Timeseries and Text\n",
        "\n",
        "Created by Dr Ana Matran-Fernandez (amatra@essex.ac.uk) for CE888 (Data Science and Decision Making)\n",
        "\n",
        "This notebook accompanies lecture 8 and illustrates recurrent neural networks on an example of a timeseries (predicting tomorrow's temperature) and a classification problem on the IMDB text dataset."
      ]
    },
    {
      "cell_type": "markdown",
      "metadata": {
        "id": "0myiQp20cxRK"
      },
      "source": [
        "# Imports"
      ]
    },
    {
      "cell_type": "code",
      "execution_count": 2,
      "metadata": {
        "id": "1J0bYBQ7_a0L"
      },
      "outputs": [],
      "source": [
        "# imports\n",
        "import numpy as np\n",
        "import matplotlib.pyplot as plt\n",
        "import os\n",
        "import pandas as pd\n",
        "from sklearn.model_selection import train_test_split"
      ]
    },
    {
      "cell_type": "code",
      "execution_count": 3,
      "metadata": {
        "id": "U0NPDv7X_a0M"
      },
      "outputs": [],
      "source": [
        "# tensorflow imports\n",
        "from tensorflow import keras\n",
        "from keras import layers, models\n",
        "from keras.callbacks import EarlyStopping, ModelCheckpoint"
      ]
    },
    {
      "cell_type": "markdown",
      "metadata": {
        "id": "xaiw_VZjbtSH"
      },
      "source": [
        "# Timeseries"
      ]
    },
    {
      "cell_type": "code",
      "execution_count": 4,
      "metadata": {
        "colab": {
          "base_uri": "https://localhost:8080/",
          "height": 423
        },
        "id": "iA_R1Q-K_a0N",
        "outputId": "493e6c10-903c-4f98-9751-aec03d1ea1e3"
      },
      "outputs": [
        {
          "output_type": "execute_result",
          "data": {
            "text/plain": [
              "                  date  radiation_avg  precip  wind_avg  wind_max  temp_avg  \\\n",
              "0     14/05/2014 00:00            159     0.0       1.4       3.3     14.27   \n",
              "1     15/05/2014 00:00            280     0.0       0.6       2.3     13.51   \n",
              "2     16/05/2014 00:00            186     3.4       0.8       2.7     15.65   \n",
              "3     17/05/2014 00:00            221     0.0       1.0       3.3     17.46   \n",
              "4     18/05/2014 00:00            255     0.0       2.1       5.5     16.85   \n",
              "...                ...            ...     ...       ...       ...       ...   \n",
              "2551  17/05/2021 00:00            196     1.4       2.2       5.5     10.51   \n",
              "2552  17/05/2021 00:00            173     2.8       1.8       5.5     10.80   \n",
              "2553  18/05/2021 00:00            311     0.0       1.4       5.0     10.29   \n",
              "2554  19/05/2021 00:00            232     6.6       1.8       5.5     11.39   \n",
              "2555  20/05/2021 00:00             44     0.0       0.5       2.7      6.35   \n",
              "\n",
              "      humidity_avg  \n",
              "0            64.95  \n",
              "1            72.91  \n",
              "2            74.69  \n",
              "3            71.42  \n",
              "4            74.45  \n",
              "...            ...  \n",
              "2551         99.86  \n",
              "2552         99.86  \n",
              "2553         92.94  \n",
              "2554         90.32  \n",
              "2555         99.86  \n",
              "\n",
              "[2556 rows x 7 columns]"
            ],
            "text/html": [
              "\n",
              "  <div id=\"df-4026e90c-e075-4474-982f-aaff04615a22\">\n",
              "    <div class=\"colab-df-container\">\n",
              "      <div>\n",
              "<style scoped>\n",
              "    .dataframe tbody tr th:only-of-type {\n",
              "        vertical-align: middle;\n",
              "    }\n",
              "\n",
              "    .dataframe tbody tr th {\n",
              "        vertical-align: top;\n",
              "    }\n",
              "\n",
              "    .dataframe thead th {\n",
              "        text-align: right;\n",
              "    }\n",
              "</style>\n",
              "<table border=\"1\" class=\"dataframe\">\n",
              "  <thead>\n",
              "    <tr style=\"text-align: right;\">\n",
              "      <th></th>\n",
              "      <th>date</th>\n",
              "      <th>radiation_avg</th>\n",
              "      <th>precip</th>\n",
              "      <th>wind_avg</th>\n",
              "      <th>wind_max</th>\n",
              "      <th>temp_avg</th>\n",
              "      <th>humidity_avg</th>\n",
              "    </tr>\n",
              "  </thead>\n",
              "  <tbody>\n",
              "    <tr>\n",
              "      <th>0</th>\n",
              "      <td>14/05/2014 00:00</td>\n",
              "      <td>159</td>\n",
              "      <td>0.0</td>\n",
              "      <td>1.4</td>\n",
              "      <td>3.3</td>\n",
              "      <td>14.27</td>\n",
              "      <td>64.95</td>\n",
              "    </tr>\n",
              "    <tr>\n",
              "      <th>1</th>\n",
              "      <td>15/05/2014 00:00</td>\n",
              "      <td>280</td>\n",
              "      <td>0.0</td>\n",
              "      <td>0.6</td>\n",
              "      <td>2.3</td>\n",
              "      <td>13.51</td>\n",
              "      <td>72.91</td>\n",
              "    </tr>\n",
              "    <tr>\n",
              "      <th>2</th>\n",
              "      <td>16/05/2014 00:00</td>\n",
              "      <td>186</td>\n",
              "      <td>3.4</td>\n",
              "      <td>0.8</td>\n",
              "      <td>2.7</td>\n",
              "      <td>15.65</td>\n",
              "      <td>74.69</td>\n",
              "    </tr>\n",
              "    <tr>\n",
              "      <th>3</th>\n",
              "      <td>17/05/2014 00:00</td>\n",
              "      <td>221</td>\n",
              "      <td>0.0</td>\n",
              "      <td>1.0</td>\n",
              "      <td>3.3</td>\n",
              "      <td>17.46</td>\n",
              "      <td>71.42</td>\n",
              "    </tr>\n",
              "    <tr>\n",
              "      <th>4</th>\n",
              "      <td>18/05/2014 00:00</td>\n",
              "      <td>255</td>\n",
              "      <td>0.0</td>\n",
              "      <td>2.1</td>\n",
              "      <td>5.5</td>\n",
              "      <td>16.85</td>\n",
              "      <td>74.45</td>\n",
              "    </tr>\n",
              "    <tr>\n",
              "      <th>...</th>\n",
              "      <td>...</td>\n",
              "      <td>...</td>\n",
              "      <td>...</td>\n",
              "      <td>...</td>\n",
              "      <td>...</td>\n",
              "      <td>...</td>\n",
              "      <td>...</td>\n",
              "    </tr>\n",
              "    <tr>\n",
              "      <th>2551</th>\n",
              "      <td>17/05/2021 00:00</td>\n",
              "      <td>196</td>\n",
              "      <td>1.4</td>\n",
              "      <td>2.2</td>\n",
              "      <td>5.5</td>\n",
              "      <td>10.51</td>\n",
              "      <td>99.86</td>\n",
              "    </tr>\n",
              "    <tr>\n",
              "      <th>2552</th>\n",
              "      <td>17/05/2021 00:00</td>\n",
              "      <td>173</td>\n",
              "      <td>2.8</td>\n",
              "      <td>1.8</td>\n",
              "      <td>5.5</td>\n",
              "      <td>10.80</td>\n",
              "      <td>99.86</td>\n",
              "    </tr>\n",
              "    <tr>\n",
              "      <th>2553</th>\n",
              "      <td>18/05/2021 00:00</td>\n",
              "      <td>311</td>\n",
              "      <td>0.0</td>\n",
              "      <td>1.4</td>\n",
              "      <td>5.0</td>\n",
              "      <td>10.29</td>\n",
              "      <td>92.94</td>\n",
              "    </tr>\n",
              "    <tr>\n",
              "      <th>2554</th>\n",
              "      <td>19/05/2021 00:00</td>\n",
              "      <td>232</td>\n",
              "      <td>6.6</td>\n",
              "      <td>1.8</td>\n",
              "      <td>5.5</td>\n",
              "      <td>11.39</td>\n",
              "      <td>90.32</td>\n",
              "    </tr>\n",
              "    <tr>\n",
              "      <th>2555</th>\n",
              "      <td>20/05/2021 00:00</td>\n",
              "      <td>44</td>\n",
              "      <td>0.0</td>\n",
              "      <td>0.5</td>\n",
              "      <td>2.7</td>\n",
              "      <td>6.35</td>\n",
              "      <td>99.86</td>\n",
              "    </tr>\n",
              "  </tbody>\n",
              "</table>\n",
              "<p>2556 rows × 7 columns</p>\n",
              "</div>\n",
              "      <button class=\"colab-df-convert\" onclick=\"convertToInteractive('df-4026e90c-e075-4474-982f-aaff04615a22')\"\n",
              "              title=\"Convert this dataframe to an interactive table.\"\n",
              "              style=\"display:none;\">\n",
              "        \n",
              "  <svg xmlns=\"http://www.w3.org/2000/svg\" height=\"24px\"viewBox=\"0 0 24 24\"\n",
              "       width=\"24px\">\n",
              "    <path d=\"M0 0h24v24H0V0z\" fill=\"none\"/>\n",
              "    <path d=\"M18.56 5.44l.94 2.06.94-2.06 2.06-.94-2.06-.94-.94-2.06-.94 2.06-2.06.94zm-11 1L8.5 8.5l.94-2.06 2.06-.94-2.06-.94L8.5 2.5l-.94 2.06-2.06.94zm10 10l.94 2.06.94-2.06 2.06-.94-2.06-.94-.94-2.06-.94 2.06-2.06.94z\"/><path d=\"M17.41 7.96l-1.37-1.37c-.4-.4-.92-.59-1.43-.59-.52 0-1.04.2-1.43.59L10.3 9.45l-7.72 7.72c-.78.78-.78 2.05 0 2.83L4 21.41c.39.39.9.59 1.41.59.51 0 1.02-.2 1.41-.59l7.78-7.78 2.81-2.81c.8-.78.8-2.07 0-2.86zM5.41 20L4 18.59l7.72-7.72 1.47 1.35L5.41 20z\"/>\n",
              "  </svg>\n",
              "      </button>\n",
              "      \n",
              "  <style>\n",
              "    .colab-df-container {\n",
              "      display:flex;\n",
              "      flex-wrap:wrap;\n",
              "      gap: 12px;\n",
              "    }\n",
              "\n",
              "    .colab-df-convert {\n",
              "      background-color: #E8F0FE;\n",
              "      border: none;\n",
              "      border-radius: 50%;\n",
              "      cursor: pointer;\n",
              "      display: none;\n",
              "      fill: #1967D2;\n",
              "      height: 32px;\n",
              "      padding: 0 0 0 0;\n",
              "      width: 32px;\n",
              "    }\n",
              "\n",
              "    .colab-df-convert:hover {\n",
              "      background-color: #E2EBFA;\n",
              "      box-shadow: 0px 1px 2px rgba(60, 64, 67, 0.3), 0px 1px 3px 1px rgba(60, 64, 67, 0.15);\n",
              "      fill: #174EA6;\n",
              "    }\n",
              "\n",
              "    [theme=dark] .colab-df-convert {\n",
              "      background-color: #3B4455;\n",
              "      fill: #D2E3FC;\n",
              "    }\n",
              "\n",
              "    [theme=dark] .colab-df-convert:hover {\n",
              "      background-color: #434B5C;\n",
              "      box-shadow: 0px 1px 3px 1px rgba(0, 0, 0, 0.15);\n",
              "      filter: drop-shadow(0px 1px 2px rgba(0, 0, 0, 0.3));\n",
              "      fill: #FFFFFF;\n",
              "    }\n",
              "  </style>\n",
              "\n",
              "      <script>\n",
              "        const buttonEl =\n",
              "          document.querySelector('#df-4026e90c-e075-4474-982f-aaff04615a22 button.colab-df-convert');\n",
              "        buttonEl.style.display =\n",
              "          google.colab.kernel.accessAllowed ? 'block' : 'none';\n",
              "\n",
              "        async function convertToInteractive(key) {\n",
              "          const element = document.querySelector('#df-4026e90c-e075-4474-982f-aaff04615a22');\n",
              "          const dataTable =\n",
              "            await google.colab.kernel.invokeFunction('convertToInteractive',\n",
              "                                                     [key], {});\n",
              "          if (!dataTable) return;\n",
              "\n",
              "          const docLinkHtml = 'Like what you see? Visit the ' +\n",
              "            '<a target=\"_blank\" href=https://colab.research.google.com/notebooks/data_table.ipynb>data table notebook</a>'\n",
              "            + ' to learn more about interactive tables.';\n",
              "          element.innerHTML = '';\n",
              "          dataTable['output_type'] = 'display_data';\n",
              "          await google.colab.output.renderOutput(dataTable, element);\n",
              "          const docLink = document.createElement('div');\n",
              "          docLink.innerHTML = docLinkHtml;\n",
              "          element.appendChild(docLink);\n",
              "        }\n",
              "      </script>\n",
              "    </div>\n",
              "  </div>\n",
              "  "
            ]
          },
          "metadata": {},
          "execution_count": 4
        }
      ],
      "source": [
        "df = pd.read_csv('weather.csv')\n",
        "df.drop(['temp_max', 'temp_min'], axis=1, inplace=True)\n",
        "df"
      ]
    },
    {
      "cell_type": "code",
      "execution_count": 5,
      "metadata": {
        "colab": {
          "base_uri": "https://localhost:8080/",
          "height": 279
        },
        "id": "nzsytNAh_a0N",
        "outputId": "3cbfbf2e-4033-41dd-d910-c59983f76e0f"
      },
      "outputs": [
        {
          "output_type": "display_data",
          "data": {
            "text/plain": [
              "<Figure size 432x288 with 1 Axes>"
            ],
            "image/png": "[encoded data removed]"
          },
          "metadata": {
            "needs_background": "light"
          }
        }
      ],
      "source": [
        "plt.plot(range(len(df)), df['temp_avg'])\n",
        "plt.xlabel('Temporal range')\n",
        "plt.ylabel('Average temperature (C) (7 years)')\n",
        "plt.savefig('temperature_over_time.pdf', bbox_inches='tight')"
      ]
    },
    {
      "cell_type": "code",
      "execution_count": 6,
      "metadata": {
        "colab": {
          "base_uri": "https://localhost:8080/",
          "height": 279
        },
        "id": "ysbM2n99_a0N",
        "outputId": "a8f604c2-dcef-43bd-9ce9-596828707611"
      },
      "outputs": [
        {
          "output_type": "display_data",
          "data": {
            "text/plain": [
              "<Figure size 432x288 with 1 Axes>"
            ],
            "image/png": "[encoded data removed]"
          },
          "metadata": {
            "needs_background": "light"
          }
        }
      ],
      "source": [
        "# Look at the first 2 years\n",
        "length = 2*365\n",
        "plt.plot(range(length), df['temp_avg'][:length])\n",
        "plt.xlabel('Temporal range')\n",
        "plt.ylabel('Average temperature (C) (2 years)')\n",
        "plt.savefig('temperature_over_time_2y.pdf', bbox_inches='tight')"
      ]
    },
    {
      "cell_type": "markdown",
      "metadata": {
        "id": "ikyqi2m7_a0O"
      },
      "source": [
        "We have clear periodicity every year. In the previous plot we saw 7 cycles (7 years). Here we see 2.\n",
        "\n",
        "Always look for periodicity in your timeseries. There will always be daily and yearly cycles. Check these patterns.\n",
        "\n",
        "Another issue with timeseries is dividing the dataset into train/validation/test sets. We definitely cannot shuffle the data, and we need to be very careful with data leakage (using data from the future)."
      ]
    },
    {
      "cell_type": "markdown",
      "metadata": {
        "id": "1fxuW2ne_a0P"
      },
      "source": [
        "## Data prep\n",
        "\n",
        "We'll try to predict the average temperature of tomorrow based on data from the past.\n",
        "\n",
        "To avoid data leakage, we're going to use a simple approach: use the first 50% of data for training, the next 30% for validation, and the final 20% for testing.\n"
      ]
    },
    {
      "cell_type": "code",
      "execution_count": 7,
      "metadata": {
        "colab": {
          "base_uri": "https://localhost:8080/"
        },
        "id": "vofGsYen_a0P",
        "outputId": "c2b58777-96aa-434f-d6f4-5d8459c19009"
      },
      "outputs": [
        {
          "output_type": "stream",
          "name": "stdout",
          "text": [
            "Samples for training: 1278; validation: 766; test: 512\n"
          ]
        }
      ],
      "source": [
        "n_tr, n_val = int(0.5*len(df)), int(0.3*len(df))\n",
        "n_te = len(df) - n_tr - n_val\n",
        "print('Samples for training: %d; validation: %d; test: %d' % (n_tr, n_val, n_te))"
      ]
    },
    {
      "cell_type": "code",
      "execution_count": 8,
      "metadata": {
        "colab": {
          "base_uri": "https://localhost:8080/"
        },
        "id": "lsMDT2Jq_a0P",
        "outputId": "e0907c0b-d9bb-4419-ff50-71b5060d5494"
      },
      "outputs": [
        {
          "output_type": "stream",
          "name": "stdout",
          "text": [
            "(2556, 6)\n"
          ]
        }
      ],
      "source": [
        "# Get the data from the dataframe (dropping date column)\n",
        "data = df.iloc[:, 1:].values\n",
        "print(data.shape)\n",
        "assert data.shape[0] == len(df)\n",
        "assert data.shape[1] == len(df.columns)-1, \"Are you sure you're dropping the date?\"\n",
        "# We need to normalise our time series. Calculate mean and std from TRAINING DATA ONLY. \n",
        "# We'll use it on the validation and test sets.\n",
        "mean_tr = data[:n_tr, :].mean(axis=0)\n",
        "std_tr = data[:n_tr, :].std(axis=0)\n",
        "data = (data - mean_tr) / std_tr\n",
        "\n",
        "\n",
        "y = df['temp_avg'].values.reshape(-1, 1)\n",
        "\n",
        "# index of the column that contains the avg_temp\n",
        "y_idx = 4"
      ]
    },
    {
      "cell_type": "code",
      "execution_count": 9,
      "metadata": {
        "colab": {
          "base_uri": "https://localhost:8080/"
        },
        "id": "1VJAcdfICLi1",
        "outputId": "239357ff-d124-4663-c018-7974fb79e7f7"
      },
      "outputs": [
        {
          "output_type": "execute_result",
          "data": {
            "text/plain": [
              "array([14.27, 13.51, 15.65, 17.46, 16.85, 18.26, 17.35, 15.55, 14.52,\n",
              "       13.93, 11.48, 13.63, 12.81, 12.4 , 13.67, 14.15, 13.22, 12.21,\n",
              "       15.53, 14.52])"
            ]
          },
          "metadata": {},
          "execution_count": 9
        }
      ],
      "source": [
        "data[:20, y_idx] * std_tr[y_idx] + mean_tr[y_idx]"
      ]
    },
    {
      "cell_type": "code",
      "execution_count": 10,
      "metadata": {
        "colab": {
          "base_uri": "https://localhost:8080/"
        },
        "id": "xN-YJyEeCUv9",
        "outputId": "8e73c987-8f1c-4cfd-d036-e3484cf84f3f"
      },
      "outputs": [
        {
          "output_type": "execute_result",
          "data": {
            "text/plain": [
              "array([[18.26],\n",
              "       [17.35],\n",
              "       [15.55],\n",
              "       [14.52],\n",
              "       [13.93],\n",
              "       [11.48],\n",
              "       [13.63],\n",
              "       [12.81],\n",
              "       [12.4 ],\n",
              "       [13.67],\n",
              "       [14.15],\n",
              "       [13.22],\n",
              "       [12.21],\n",
              "       [15.53],\n",
              "       [14.52],\n",
              "       [15.35],\n",
              "       [12.29],\n",
              "       [13.88],\n",
              "       [15.13],\n",
              "       [17.29]])"
            ]
          },
          "metadata": {},
          "execution_count": 10
        }
      ],
      "source": [
        "y[5:25]"
      ]
    },
    {
      "cell_type": "code",
      "execution_count": 11,
      "metadata": {
        "id": "K_JGeiAs_a0Q"
      },
      "outputs": [],
      "source": [
        "# We'll use a Dataset from keras to pass our data\n",
        "sampling_rate = 1  # we keep all data points\n",
        "sequence_length = 14  # 2 weeks to predict tomorrow's temperature\n",
        "delay = sampling_rate * sequence_length  # the target is the day after the end of the sequence\n",
        "batch_size = 16"
      ]
    },
    {
      "cell_type": "code",
      "execution_count": 12,
      "metadata": {
        "colab": {
          "base_uri": "https://localhost:8080/"
        },
        "id": "cRDGWNYl_a0Q",
        "outputId": "14332c31-1df8-4379-b7b2-e6e8f70f4f1f"
      },
      "outputs": [
        {
          "output_type": "stream",
          "name": "stdout",
          "text": [
            "X shape: (16, 14, 6)\n",
            "target shape: (16, 1)\n"
          ]
        }
      ],
      "source": [
        "train_dataset = keras.utils.timeseries_dataset_from_array(\n",
        "    data[:-delay],\n",
        "    targets=y[delay:],\n",
        "    sampling_rate=sampling_rate, sequence_length=sequence_length,\n",
        "    batch_size=batch_size,\n",
        "    start_index=0, end_index=n_tr  # first 50% for training\n",
        "    )\n",
        "\n",
        "val_dataset = keras.utils.timeseries_dataset_from_array(\n",
        "    data[:-delay],\n",
        "    targets=y[delay:],\n",
        "    sampling_rate=sampling_rate, sequence_length=sequence_length,\n",
        "    batch_size=batch_size,\n",
        "    start_index=n_tr, end_index=n_tr+n_val  # 50%-80% for validation\n",
        "    )\n",
        "\n",
        "test_dataset = keras.utils.timeseries_dataset_from_array(\n",
        "    data[:-delay],\n",
        "    targets=y[delay:],\n",
        "    sampling_rate=sampling_rate, sequence_length=sequence_length,\n",
        "    batch_size=batch_size,\n",
        "    start_index=n_tr+n_val  # last 20% for test\n",
        "    )\n",
        "\n",
        "for X, target in train_dataset:\n",
        "    print(\"X shape:\", X.shape)\n",
        "    print(\"target shape:\", target.shape)\n",
        "    #print(X[:, :, y_idx] * std_tr[y_idx] + mean_tr[y_idx])\n",
        "    #print(target)\n",
        "    break  # so we only print once"
      ]
    },
    {
      "cell_type": "code",
      "execution_count": 13,
      "metadata": {
        "id": "u_v2rAW_W4kQ"
      },
      "outputs": [],
      "source": [
        "# Function to plot history with neural networks\n",
        "def plot_hist_regression(hist, y):\n",
        "  n_ = len(hist.history['mae'])\n",
        "  plt.plot(range(1, n_+1), np.asarray(hist.history['mae']), 'bo', label='MAE on training set')\n",
        "  plt.plot(range(1, n_+1), np.asarray(hist.history['val_mae']), 'b', label='MAE on validation set')\n",
        "  plt.legend()\n",
        "  plt.xlabel(\"Epoch\") \n",
        "  plt.ylabel(\"MAE (degrees)\")\n",
        "  plt.axhline(y=y)\n",
        "  plt.show()\n"
      ]
    },
    {
      "cell_type": "markdown",
      "metadata": {
        "id": "WlhjIvZR_a0Q"
      },
      "source": [
        "## Establishing a baseline\n"
      ]
    },
    {
      "cell_type": "markdown",
      "metadata": {
        "id": "rloJamyvWPWj"
      },
      "source": [
        "### Common sense, no ML baseline\n",
        "\n",
        "- Sanity check\n",
        "- To establish whether ML methods are actually any good\n",
        "\n",
        "Tomorrow's temperature is likely to be close to today's: let's predict that the temperature 24 hours from now will be equal to the temperature right now.\n",
        "\n",
        "We'll use the MAE as metric"
      ]
    },
    {
      "cell_type": "code",
      "execution_count": 15,
      "metadata": {
        "colab": {
          "base_uri": "https://localhost:8080/"
        },
        "id": "MUY5acIf_a0Q",
        "outputId": "51661a30-e38c-4703-e0a5-08ae9d24b25a"
      },
      "outputs": [
        {
          "output_type": "stream",
          "name": "stdout",
          "text": [
            "MAE on train set = 2.56 (degrees Celsius)\n",
            "MAE on validation set = 2.69 (degrees Celsius)\n",
            "MAE on test set = 2.85 (degrees Celsius)\n"
          ]
        }
      ],
      "source": [
        "def naive_method(dataset, mean, std):\n",
        "    error = 0\n",
        "    samples = 0\n",
        "    count = 0\n",
        "    for X, target in dataset:\n",
        "        pred = X[:, -1, y_idx] * std + mean  # predict last available temperature and un-standardise\n",
        "        #print(X.shape, target.shape, pred.shape)  # [batch_size, sequence_length, n_feats]\n",
        "        #print(X[:, -1, y_idx] * std + mean, target)\n",
        "        error += np.sum(np.abs(pred - target))\n",
        "        samples += X.shape[0]  # batch_size\n",
        "        count += 1\n",
        "    return error / samples / batch_size # average\n",
        "\n",
        "\n",
        "print('MAE on train set = %.2f (degrees Celsius)' % naive_method(train_dataset, mean_tr[y_idx], std_tr[y_idx]))\n",
        "print('MAE on validation set = %.2f (degrees Celsius)' % naive_method(val_dataset, mean_tr[y_idx], std_tr[y_idx]))\n",
        "print('MAE on test set = %.2f (degrees Celsius)' % naive_method(test_dataset, mean_tr[y_idx], std_tr[y_idx]))\n",
        "# Save MAE on validation for later\n",
        "baseline = naive_method(val_dataset, mean_tr[y_idx], std_tr[y_idx])"
      ]
    },
    {
      "cell_type": "markdown",
      "metadata": {
        "id": "znycUtxiJmAF"
      },
      "source": [
        "This baseline achieves a validation MAE of 2.69 degrees and a test MAE of 2.85 degrees. So if we assume that tomorrow's temperature will be the same as today's, we'll be off by less than 3 degrees on average.\n",
        "\n",
        "Not too bad, but surely we can do better!"
      ]
    },
    {
      "cell_type": "markdown",
      "metadata": {
        "id": "7c-duA1Z_a0R"
      },
      "source": [
        "### Simple ML baseline\n",
        "\n",
        "\n"
      ]
    },
    {
      "cell_type": "code",
      "execution_count": 16,
      "metadata": {
        "colab": {
          "base_uri": "https://localhost:8080/"
        },
        "id": "fWGqpICHJlRe",
        "outputId": "d547402d-9377-423e-9c04-9c132b97d43a"
      },
      "outputs": [
        {
          "output_type": "stream",
          "name": "stdout",
          "text": [
            "Model: \"sequential_1\"\n",
            "_________________________________________________________________\n",
            " Layer (type)                Output Shape              Param #   \n",
            "=================================================================\n",
            " flatten (Flatten)           (None, 84)                0         \n",
            "                                                                 \n",
            " dense (Dense)               (None, 10)                850       \n",
            "                                                                 \n",
            " dense_1 (Dense)             (None, 1)                 11        \n",
            "                                                                 \n",
            "=================================================================\n",
            "Total params: 861\n",
            "Trainable params: 861\n",
            "Non-trainable params: 0\n",
            "_________________________________________________________________\n"
          ]
        }
      ],
      "source": [
        "# To get some practice with neural networks, we'll try a 1-layer NN with nothing fancy.\n",
        "\n",
        "model_dense = models.Sequential()\n",
        "model_dense.add(layers.Flatten(input_shape=(sequence_length, len(df.columns)-1)))  # we need to specify the input shape or we won't be able to see the summary\n",
        "model_dense.add(layers.Dense(10, activation='relu'))\n",
        "model_dense.add(layers.Dense(1))\n",
        "\n",
        "model_dense.summary()"
      ]
    },
    {
      "cell_type": "code",
      "execution_count": 17,
      "metadata": {
        "colab": {
          "base_uri": "https://localhost:8080/"
        },
        "id": "p0Hz1rX8LMfT",
        "outputId": "b1398721-cf28-409f-8041-38d4e887dbeb"
      },
      "outputs": [
        {
          "output_type": "stream",
          "name": "stdout",
          "text": [
            "Epoch 1/20\n",
            "80/80 [==============================] - 2s 14ms/step - loss: 122.0917 - mae: 9.9465 - val_loss: 98.9350 - val_mae: 8.8911\n",
            "Epoch 2/20\n",
            "80/80 [==============================] - 1s 12ms/step - loss: 83.7142 - mae: 8.2322 - val_loss: 65.1613 - val_mae: 7.1322\n",
            "Epoch 3/20\n",
            "80/80 [==============================] - 1s 12ms/step - loss: 53.6834 - mae: 6.4160 - val_loss: 42.1686 - val_mae: 5.4390\n",
            "Epoch 4/20\n",
            "80/80 [==============================] - 1s 12ms/step - loss: 37.7197 - mae: 5.1572 - val_loss: 33.3161 - val_mae: 4.6964\n",
            "Epoch 5/20\n",
            "80/80 [==============================] - 1s 12ms/step - loss: 32.6354 - mae: 4.7176 - val_loss: 30.6950 - val_mae: 4.4696\n",
            "Epoch 6/20\n",
            "80/80 [==============================] - 1s 12ms/step - loss: 30.3210 - mae: 4.5169 - val_loss: 29.1809 - val_mae: 4.3400\n",
            "Epoch 7/20\n",
            "80/80 [==============================] - 1s 12ms/step - loss: 28.5723 - mae: 4.3785 - val_loss: 27.9097 - val_mae: 4.2381\n",
            "Epoch 8/20\n",
            "80/80 [==============================] - 1s 12ms/step - loss: 27.0941 - mae: 4.2611 - val_loss: 26.7525 - val_mae: 4.1489\n",
            "Epoch 9/20\n",
            "80/80 [==============================] - 1s 12ms/step - loss: 25.7649 - mae: 4.1528 - val_loss: 25.6494 - val_mae: 4.0611\n",
            "Epoch 10/20\n",
            "80/80 [==============================] - 1s 12ms/step - loss: 24.5328 - mae: 4.0533 - val_loss: 24.5730 - val_mae: 3.9713\n",
            "Epoch 11/20\n",
            "80/80 [==============================] - 1s 12ms/step - loss: 23.3579 - mae: 3.9547 - val_loss: 23.4866 - val_mae: 3.8800\n",
            "Epoch 12/20\n",
            "80/80 [==============================] - 1s 12ms/step - loss: 22.1848 - mae: 3.8545 - val_loss: 22.3671 - val_mae: 3.7869\n",
            "Epoch 13/20\n",
            "80/80 [==============================] - 1s 12ms/step - loss: 20.9983 - mae: 3.7523 - val_loss: 21.2323 - val_mae: 3.6900\n",
            "Epoch 14/20\n",
            "80/80 [==============================] - 1s 12ms/step - loss: 19.8043 - mae: 3.6477 - val_loss: 20.1072 - val_mae: 3.5906\n",
            "Epoch 15/20\n",
            "80/80 [==============================] - 1s 12ms/step - loss: 18.6157 - mae: 3.5396 - val_loss: 18.9903 - val_mae: 3.4885\n",
            "Epoch 16/20\n",
            "80/80 [==============================] - 1s 12ms/step - loss: 17.4431 - mae: 3.4280 - val_loss: 17.9204 - val_mae: 3.3910\n",
            "Epoch 17/20\n",
            "80/80 [==============================] - 1s 12ms/step - loss: 16.2951 - mae: 3.3131 - val_loss: 16.8823 - val_mae: 3.2940\n",
            "Epoch 18/20\n",
            "80/80 [==============================] - 1s 12ms/step - loss: 15.2052 - mae: 3.1955 - val_loss: 15.8942 - val_mae: 3.2017\n",
            "Epoch 19/20\n",
            "80/80 [==============================] - 1s 12ms/step - loss: 14.2032 - mae: 3.0811 - val_loss: 14.9675 - val_mae: 3.1099\n",
            "Epoch 20/20\n",
            "80/80 [==============================] - 1s 12ms/step - loss: 13.2756 - mae: 2.9698 - val_loss: 14.1086 - val_mae: 3.0250\n"
          ]
        }
      ],
      "source": [
        "n_epochs = 20\n",
        "\n",
        "model_dense.compile(optimizer='rmsprop', loss='mse', metrics=['mae'])\n",
        "history_dense = model_dense.fit(train_dataset, epochs=n_epochs, validation_data=val_dataset)"
      ]
    },
    {
      "cell_type": "code",
      "execution_count": 18,
      "metadata": {
        "colab": {
          "base_uri": "https://localhost:8080/",
          "height": 279
        },
        "id": "aBRYn-AKMCi4",
        "outputId": "53da17be-261c-4f65-b755-d7b6646b968b"
      },
      "outputs": [
        {
          "output_type": "display_data",
          "data": {
            "text/plain": [
              "<Figure size 432x288 with 1 Axes>"
            ],
            "image/png": "[encoded data removed]"
          },
          "metadata": {
            "needs_background": "light"
          }
        }
      ],
      "source": [
        "# Plot MAE cures for validation and training\n",
        "plot_hist_regression(history_dense, baseline)"
      ]
    },
    {
      "cell_type": "markdown",
      "metadata": {
        "id": "1EJywOA5NJa9"
      },
      "source": [
        "Validation loss is worse than what we had with our common-sense baseline, and we're already overfitting (MAE on training set is lower than on validation set). It turns out our previous baseline is not as easy to outperform as we thought!\n",
        "\n",
        "Remember our 'hypothesis space'? Using 2 Dense layers doesn't seem to be very useful in this case. We need other types of layers for this problem."
      ]
    },
    {
      "cell_type": "code",
      "execution_count": 19,
      "metadata": {
        "colab": {
          "base_uri": "https://localhost:8080/"
        },
        "id": "k6PADykQPIjq",
        "outputId": "4c2ff809-6550-4958-e4eb-1d7b7b21e828"
      },
      "outputs": [
        {
          "output_type": "stream",
          "name": "stdout",
          "text": [
            "Model: \"sequential_2\"\n",
            "_________________________________________________________________\n",
            " Layer (type)                Output Shape              Param #   \n",
            "=================================================================\n",
            " conv1d (Conv1D)             (None, 8, 8)              344       \n",
            "                                                                 \n",
            " max_pooling1d (MaxPooling1D  (None, 4, 8)             0         \n",
            " )                                                               \n",
            "                                                                 \n",
            " conv1d_1 (Conv1D)           (None, 2, 8)              200       \n",
            "                                                                 \n",
            " max_pooling1d_1 (MaxPooling  (None, 1, 8)             0         \n",
            " 1D)                                                             \n",
            "                                                                 \n",
            " global_average_pooling1d (G  (None, 8)                0         \n",
            " lobalAveragePooling1D)                                          \n",
            "                                                                 \n",
            " dense_2 (Dense)             (None, 1)                 9         \n",
            "                                                                 \n",
            "=================================================================\n",
            "Total params: 553\n",
            "Trainable params: 553\n",
            "Non-trainable params: 0\n",
            "_________________________________________________________________\n"
          ]
        }
      ],
      "source": [
        "# We know that CNNs take advantage of neighbouring values, so why don't we try that?\n",
        "\n",
        "# In addition to the Conv2D layers we saw last week, there are Conv1D and Conv3D layers. \n",
        "# Conv1D layers rely on 1D windows that slide across an input sequence (imagine a 1D image)\n",
        "\n",
        "model_cnn = models.Sequential()\n",
        "model_cnn.add(layers.Conv1D(8, 7, activation='relu', input_shape=(sequence_length, len(df.columns)-1)))\n",
        "model_cnn.add(layers.MaxPooling1D(2))\n",
        "model_cnn.add(layers.Conv1D(8, 3, activation='relu'))\n",
        "model_cnn.add(layers.MaxPooling1D(2))\n",
        "model_cnn.add(layers.GlobalAveragePooling1D())\n",
        "model_cnn.add(layers.Dense(1))\n",
        "\n",
        "model_cnn.summary()"
      ]
    },
    {
      "cell_type": "code",
      "execution_count": 18,
      "metadata": {
        "colab": {
          "base_uri": "https://localhost:8080/"
        },
        "id": "PSGRJSulQs22",
        "outputId": "20db0f6e-0813-4b87-c1b7-6e41e69854e3"
      },
      "outputs": [
        {
          "output_type": "stream",
          "name": "stdout",
          "text": [
            "Epoch 1/20\n",
            "80/80 [==============================] - 9s 17ms/step - loss: 132.0362 - mae: 10.2487 - val_loss: 109.4936 - val_mae: 9.1078\n",
            "Epoch 2/20\n",
            "80/80 [==============================] - 1s 14ms/step - loss: 82.8469 - mae: 8.0199 - val_loss: 57.1944 - val_mae: 6.5343\n",
            "Epoch 3/20\n",
            "80/80 [==============================] - 1s 14ms/step - loss: 34.7684 - mae: 5.0211 - val_loss: 22.9413 - val_mae: 3.8711\n",
            "Epoch 4/20\n",
            "80/80 [==============================] - 1s 14ms/step - loss: 20.3050 - mae: 3.6481 - val_loss: 18.0313 - val_mae: 3.3157\n",
            "Epoch 5/20\n",
            "80/80 [==============================] - 1s 14ms/step - loss: 17.3297 - mae: 3.3642 - val_loss: 17.2684 - val_mae: 3.2050\n",
            "Epoch 6/20\n",
            "80/80 [==============================] - 1s 15ms/step - loss: 15.4886 - mae: 3.1751 - val_loss: 16.9136 - val_mae: 3.1394\n",
            "Epoch 7/20\n",
            "80/80 [==============================] - 1s 14ms/step - loss: 14.1966 - mae: 3.0261 - val_loss: 16.5823 - val_mae: 3.0815\n",
            "Epoch 8/20\n",
            "80/80 [==============================] - 1s 14ms/step - loss: 13.2240 - mae: 2.9062 - val_loss: 16.2852 - val_mae: 3.0315\n",
            "Epoch 9/20\n",
            "80/80 [==============================] - 1s 14ms/step - loss: 12.4446 - mae: 2.8092 - val_loss: 16.0210 - val_mae: 2.9883\n",
            "Epoch 10/20\n",
            "80/80 [==============================] - 1s 14ms/step - loss: 11.7901 - mae: 2.7289 - val_loss: 15.7006 - val_mae: 2.9494\n",
            "Epoch 11/20\n",
            "80/80 [==============================] - 1s 14ms/step - loss: 11.2330 - mae: 2.6606 - val_loss: 15.4460 - val_mae: 2.9236\n",
            "Epoch 12/20\n",
            "80/80 [==============================] - 1s 14ms/step - loss: 10.7948 - mae: 2.6083 - val_loss: 15.0920 - val_mae: 2.8983\n",
            "Epoch 13/20\n",
            "80/80 [==============================] - 1s 14ms/step - loss: 10.4752 - mae: 2.5702 - val_loss: 14.8180 - val_mae: 2.8822\n",
            "Epoch 14/20\n",
            "80/80 [==============================] - 1s 14ms/step - loss: 10.2036 - mae: 2.5375 - val_loss: 14.5526 - val_mae: 2.8669\n",
            "Epoch 15/20\n",
            "80/80 [==============================] - 1s 14ms/step - loss: 9.9663 - mae: 2.5084 - val_loss: 14.2902 - val_mae: 2.8515\n",
            "Epoch 16/20\n",
            "80/80 [==============================] - 1s 14ms/step - loss: 9.7532 - mae: 2.4814 - val_loss: 14.0730 - val_mae: 2.8365\n",
            "Epoch 17/20\n",
            "80/80 [==============================] - 1s 14ms/step - loss: 9.5609 - mae: 2.4565 - val_loss: 13.8707 - val_mae: 2.8225\n",
            "Epoch 18/20\n",
            "80/80 [==============================] - 1s 14ms/step - loss: 9.3806 - mae: 2.4333 - val_loss: 13.6878 - val_mae: 2.8092\n",
            "Epoch 19/20\n",
            "80/80 [==============================] - 1s 15ms/step - loss: 9.2147 - mae: 2.4115 - val_loss: 13.5196 - val_mae: 2.7954\n",
            "Epoch 20/20\n",
            "80/80 [==============================] - 1s 14ms/step - loss: 9.0684 - mae: 2.3926 - val_loss: 13.3781 - val_mae: 2.7846\n"
          ]
        }
      ],
      "source": [
        "model_cnn.compile(optimizer='rmsprop', loss='mse', metrics=['mae'])\n",
        "history_cnn = model_cnn.fit(train_dataset, epochs=n_epochs,\n",
        "                            validation_data=val_dataset)"
      ]
    },
    {
      "cell_type": "code",
      "execution_count": 19,
      "metadata": {
        "colab": {
          "base_uri": "https://localhost:8080/",
          "height": 279
        },
        "id": "6bB6lzLYSG-u",
        "outputId": "b8b55d48-9858-4b75-9adb-9c935b009519"
      },
      "outputs": [
        {
          "output_type": "display_data",
          "data": {
            "text/plain": [
              "<Figure size 432x288 with 1 Axes>"
            ],
            "image/png": "[encoded data removed]"
          },
          "metadata": {
            "needs_background": "light"
          }
        }
      ],
      "source": [
        "# Plot MAE cures for validation and training\n",
        "plot_hist_regression(history_cnn, baseline)"
      ]
    },
    {
      "cell_type": "markdown",
      "metadata": {
        "id": "Kc2iMPSHViL1"
      },
      "source": [
        "This model isn't any better, with a validation MAE of 2.77 degrees (also worse than the 'common-sense approach' that we tried at first), and we're overfitting a bit too.\n",
        "\n",
        "Why?\n",
        "\n",
        "In timeseries, order matters a lot: the recent past is more informative than data from 5 days ago, and convolutional layers don't take advantage of this fact -- max pooling and global average pooling layers actually destroy this order information."
      ]
    },
    {
      "cell_type": "markdown",
      "metadata": {
        "id": "3ozUAZX__a0R"
      },
      "source": [
        "## Long Short Term Memory (LSTM) Neural Networks\n",
        "\n",
        "\n"
      ]
    },
    {
      "cell_type": "code",
      "execution_count": 20,
      "metadata": {
        "colab": {
          "base_uri": "https://localhost:8080/"
        },
        "id": "2dWfiaUw_a0R",
        "outputId": "2121b040-537b-43b7-f0fd-f6fa37461caa"
      },
      "outputs": [
        {
          "output_type": "stream",
          "name": "stdout",
          "text": [
            "Model: \"sequential_2\"\n",
            "_________________________________________________________________\n",
            " Layer (type)                Output Shape              Param #   \n",
            "=================================================================\n",
            " lstm (LSTM)                 (None, 20)                2160      \n",
            "                                                                 \n",
            " dense_3 (Dense)             (None, 1)                 21        \n",
            "                                                                 \n",
            "=================================================================\n",
            "Total params: 2,181\n",
            "Trainable params: 2,181\n",
            "Non-trainable params: 0\n",
            "_________________________________________________________________\n"
          ]
        }
      ],
      "source": [
        "# 1-layer LSTM\n",
        "\n",
        "model_lstm1 = models.Sequential()\n",
        "model_lstm1.add(layers.LSTM(20, input_shape=(sequence_length, len(df.columns)-1)))\n",
        "model_lstm1.add(layers.Dense(1))\n",
        "\n",
        "model_lstm1.summary()"
      ]
    },
    {
      "cell_type": "code",
      "execution_count": 21,
      "metadata": {
        "id": "DMst2Mp0R0Xi"
      },
      "outputs": [],
      "source": [
        "n_epochs = 20"
      ]
    },
    {
      "cell_type": "code",
      "execution_count": 22,
      "metadata": {
        "colab": {
          "base_uri": "https://localhost:8080/"
        },
        "id": "Pff2tZQHXb-z",
        "outputId": "bfe6dd46-d10a-4d95-ebe5-d3b5bbd68c09"
      },
      "outputs": [
        {
          "output_type": "stream",
          "name": "stdout",
          "text": [
            "Epoch 1/20\n",
            "80/80 [==============================] - 5s 22ms/step - loss: 139.3356 - mae: 10.5381 - val_loss: 118.8464 - val_mae: 9.4976\n",
            "Epoch 2/20\n",
            "80/80 [==============================] - 1s 15ms/step - loss: 98.5556 - mae: 8.6736 - val_loss: 72.2528 - val_mae: 7.0855\n",
            "Epoch 3/20\n",
            "80/80 [==============================] - 1s 15ms/step - loss: 56.3869 - mae: 6.2436 - val_loss: 43.3619 - val_mae: 5.1766\n",
            "Epoch 4/20\n",
            "80/80 [==============================] - 1s 15ms/step - loss: 36.0420 - mae: 4.8923 - val_loss: 31.2212 - val_mae: 4.3834\n",
            "Epoch 5/20\n",
            "80/80 [==============================] - 1s 15ms/step - loss: 26.6543 - mae: 4.1993 - val_loss: 24.9511 - val_mae: 3.9441\n",
            "Epoch 6/20\n",
            "80/80 [==============================] - 1s 15ms/step - loss: 21.4132 - mae: 3.7635 - val_loss: 20.9123 - val_mae: 3.6228\n",
            "Epoch 7/20\n",
            "80/80 [==============================] - 1s 15ms/step - loss: 17.8630 - mae: 3.4421 - val_loss: 17.9130 - val_mae: 3.3544\n",
            "Epoch 8/20\n",
            "80/80 [==============================] - 1s 15ms/step - loss: 15.1783 - mae: 3.1715 - val_loss: 15.5978 - val_mae: 3.1277\n",
            "Epoch 9/20\n",
            "80/80 [==============================] - 1s 15ms/step - loss: 13.1523 - mae: 2.9381 - val_loss: 13.8111 - val_mae: 2.9401\n",
            "Epoch 10/20\n",
            "80/80 [==============================] - 1s 15ms/step - loss: 11.5397 - mae: 2.7371 - val_loss: 12.2815 - val_mae: 2.7786\n",
            "Epoch 11/20\n",
            "80/80 [==============================] - 1s 15ms/step - loss: 10.1702 - mae: 2.5563 - val_loss: 11.0513 - val_mae: 2.6448\n",
            "Epoch 12/20\n",
            "80/80 [==============================] - 1s 15ms/step - loss: 9.0405 - mae: 2.4001 - val_loss: 10.0779 - val_mae: 2.5341\n",
            "Epoch 13/20\n",
            "80/80 [==============================] - 1s 15ms/step - loss: 8.1459 - mae: 2.2725 - val_loss: 9.2985 - val_mae: 2.4418\n",
            "Epoch 14/20\n",
            "80/80 [==============================] - 1s 15ms/step - loss: 7.4651 - mae: 2.1754 - val_loss: 8.6683 - val_mae: 2.3626\n",
            "Epoch 15/20\n",
            "80/80 [==============================] - 1s 15ms/step - loss: 6.9535 - mae: 2.1034 - val_loss: 8.1606 - val_mae: 2.2978\n",
            "Epoch 16/20\n",
            "80/80 [==============================] - 1s 15ms/step - loss: 6.5647 - mae: 2.0455 - val_loss: 7.7531 - val_mae: 2.2434\n",
            "Epoch 17/20\n",
            "80/80 [==============================] - 1s 15ms/step - loss: 6.2603 - mae: 1.9982 - val_loss: 7.4226 - val_mae: 2.1948\n",
            "Epoch 18/20\n",
            "80/80 [==============================] - 1s 15ms/step - loss: 6.0089 - mae: 1.9577 - val_loss: 7.1463 - val_mae: 2.1517\n",
            "Epoch 19/20\n",
            "80/80 [==============================] - 1s 15ms/step - loss: 5.7863 - mae: 1.9205 - val_loss: 6.9083 - val_mae: 2.1129\n",
            "Epoch 20/20\n",
            "80/80 [==============================] - 1s 15ms/step - loss: 5.5972 - mae: 1.8866 - val_loss: 6.6961 - val_mae: 2.0779\n"
          ]
        }
      ],
      "source": [
        "model_lstm1.compile(optimizer='rmsprop', loss='mse', metrics=['mae'])\n",
        "history_lstm1 = model_lstm1.fit(train_dataset, epochs=n_epochs,\n",
        "                            validation_data=val_dataset)"
      ]
    },
    {
      "cell_type": "code",
      "execution_count": 23,
      "metadata": {
        "colab": {
          "base_uri": "https://localhost:8080/",
          "height": 279
        },
        "id": "hr-bgDUvXmvS",
        "outputId": "414a6301-ca75-49d1-891b-032f727c672e"
      },
      "outputs": [
        {
          "output_type": "display_data",
          "data": {
            "text/plain": [
              "<Figure size 432x288 with 1 Axes>"
            ],
            "image/png": "[encoded data removed]"
          },
          "metadata": {
            "needs_background": "light"
          }
        }
      ],
      "source": [
        "# Plot MAE cures for validation and training\n",
        "plot_hist_regression(history_lstm1, baseline)\n"
      ]
    },
    {
      "cell_type": "code",
      "execution_count": 24,
      "metadata": {
        "colab": {
          "base_uri": "https://localhost:8080/"
        },
        "id": "0fFZvXXUcQ67",
        "outputId": "fe802181-6b6e-462d-d004-3ad24fdc4503"
      },
      "outputs": [
        {
          "output_type": "stream",
          "name": "stdout",
          "text": [
            "31/31 [==============================] - 0s 8ms/step - loss: 7.7163 - mae: 2.1966\n",
            "Test MAE = 2.20 degrees\n"
          ]
        }
      ],
      "source": [
        "print('Test MAE = %.2f degrees' % model_lstm1.evaluate(test_dataset)[1])"
      ]
    },
    {
      "cell_type": "markdown",
      "metadata": {
        "id": "bYSWwI1aXvwL"
      },
      "source": [
        "Success! We finally beat the common-sense baseline! The validation MAE now is 2.12 degrees, and the test MAE is 2.27.\n",
        "\n",
        "Why do LSTM layers work? Let's go back to the slides"
      ]
    },
    {
      "cell_type": "code",
      "execution_count": 25,
      "metadata": {
        "colab": {
          "base_uri": "https://localhost:8080/"
        },
        "id": "acSYakeOcokB",
        "outputId": "c1a4f0df-92f5-444d-fef4-79641cb7f1d0"
      },
      "outputs": [
        {
          "output_type": "stream",
          "name": "stdout",
          "text": [
            "WARNING:tensorflow:Layer lstm_1 will not use cuDNN kernels since it doesn't meet the criteria. It will use a generic GPU kernel as fallback when running on GPU.\n",
            "Model: \"sequential_3\"\n",
            "_________________________________________________________________\n",
            " Layer (type)                Output Shape              Param #   \n",
            "=================================================================\n",
            " lstm_1 (LSTM)               (None, 20)                2160      \n",
            "                                                                 \n",
            " dropout (Dropout)           (None, 20)                0         \n",
            "                                                                 \n",
            " dense_4 (Dense)             (None, 1)                 21        \n",
            "                                                                 \n",
            "=================================================================\n",
            "Total params: 2,181\n",
            "Trainable params: 2,181\n",
            "Non-trainable params: 0\n",
            "_________________________________________________________________\n"
          ]
        }
      ],
      "source": [
        "# Adding dropout\n",
        "\n",
        "model_lstm2 = models.Sequential()\n",
        "model_lstm2.add(layers.LSTM(20, input_shape=(sequence_length, len(df.columns)-1), recurrent_dropout=0.25))\n",
        "model_lstm2.add(layers.Dropout(0.4))\n",
        "model_lstm2.add(layers.Dense(1))\n",
        "\n",
        "model_lstm2.summary()"
      ]
    },
    {
      "cell_type": "code",
      "execution_count": 26,
      "metadata": {
        "colab": {
          "base_uri": "https://localhost:8080/"
        },
        "id": "LvRnf9TWSWf9",
        "outputId": "c1934ee6-ffeb-4046-c43b-efee585cc0f7"
      },
      "outputs": [
        {
          "output_type": "stream",
          "name": "stdout",
          "text": [
            "Epoch 1/20\n",
            "80/80 [==============================] - 12s 112ms/step - loss: 134.2673 - mae: 10.5326 - val_loss: 114.4654 - val_mae: 9.6676\n",
            "Epoch 2/20\n",
            "80/80 [==============================] - 9s 109ms/step - loss: 89.2904 - mae: 8.4278 - val_loss: 65.0987 - val_mae: 6.8590\n",
            "Epoch 3/20\n",
            "80/80 [==============================] - 8s 105ms/step - loss: 52.7327 - mae: 6.0001 - val_loss: 42.6045 - val_mae: 5.1663\n",
            "Epoch 4/20\n",
            "80/80 [==============================] - 9s 107ms/step - loss: 39.7629 - mae: 5.1464 - val_loss: 33.7419 - val_mae: 4.5745\n",
            "Epoch 5/20\n",
            "80/80 [==============================] - 9s 110ms/step - loss: 31.5585 - mae: 4.5463 - val_loss: 27.7289 - val_mae: 4.1458\n",
            "Epoch 6/20\n",
            "80/80 [==============================] - 8s 105ms/step - loss: 26.7248 - mae: 4.1669 - val_loss: 23.5043 - val_mae: 3.8309\n",
            "Epoch 7/20\n",
            "80/80 [==============================] - 8s 105ms/step - loss: 23.2227 - mae: 3.8576 - val_loss: 20.1094 - val_mae: 3.5451\n",
            "Epoch 8/20\n",
            "80/80 [==============================] - 9s 108ms/step - loss: 19.8972 - mae: 3.5935 - val_loss: 17.7684 - val_mae: 3.3434\n",
            "Epoch 9/20\n",
            "80/80 [==============================] - 8s 106ms/step - loss: 18.3159 - mae: 3.4054 - val_loss: 15.5159 - val_mae: 3.1185\n",
            "Epoch 10/20\n",
            "80/80 [==============================] - 9s 108ms/step - loss: 16.0762 - mae: 3.2111 - val_loss: 13.6831 - val_mae: 2.9339\n",
            "Epoch 11/20\n",
            "80/80 [==============================] - 9s 107ms/step - loss: 15.5410 - mae: 3.1356 - val_loss: 12.9469 - val_mae: 2.8832\n",
            "Epoch 12/20\n",
            "80/80 [==============================] - 9s 107ms/step - loss: 14.1471 - mae: 3.0028 - val_loss: 11.3929 - val_mae: 2.6986\n",
            "Epoch 13/20\n",
            "80/80 [==============================] - 8s 106ms/step - loss: 13.4333 - mae: 2.9030 - val_loss: 10.6451 - val_mae: 2.6106\n",
            "Epoch 14/20\n",
            "80/80 [==============================] - 8s 104ms/step - loss: 13.4967 - mae: 2.9140 - val_loss: 9.7515 - val_mae: 2.4951\n",
            "Epoch 15/20\n",
            "80/80 [==============================] - 9s 107ms/step - loss: 12.2320 - mae: 2.7773 - val_loss: 9.1176 - val_mae: 2.4132\n",
            "Epoch 16/20\n",
            "80/80 [==============================] - 9s 107ms/step - loss: 12.3741 - mae: 2.7554 - val_loss: 8.8323 - val_mae: 2.3820\n",
            "Epoch 17/20\n",
            "80/80 [==============================] - 9s 109ms/step - loss: 11.8668 - mae: 2.6969 - val_loss: 8.5488 - val_mae: 2.3520\n",
            "Epoch 18/20\n",
            "80/80 [==============================] - 9s 107ms/step - loss: 11.1333 - mae: 2.6264 - val_loss: 8.2395 - val_mae: 2.3146\n",
            "Epoch 19/20\n",
            "80/80 [==============================] - 9s 108ms/step - loss: 11.6075 - mae: 2.7360 - val_loss: 8.1497 - val_mae: 2.3131\n",
            "Epoch 20/20\n",
            "80/80 [==============================] - 8s 106ms/step - loss: 10.6624 - mae: 2.6173 - val_loss: 7.6301 - val_mae: 2.2259\n"
          ]
        }
      ],
      "source": [
        "model_lstm2.compile(optimizer='rmsprop', loss='mse', metrics=['mae'])\n",
        "history_lstm2 = model_lstm2.fit(train_dataset, epochs=n_epochs,\n",
        "                            validation_data=val_dataset)"
      ]
    },
    {
      "cell_type": "code",
      "execution_count": 27,
      "metadata": {
        "colab": {
          "base_uri": "https://localhost:8080/",
          "height": 279
        },
        "id": "cWpm-j9iSck1",
        "outputId": "f6700cda-0215-4db2-ee2a-5c962185e833"
      },
      "outputs": [
        {
          "output_type": "display_data",
          "data": {
            "text/plain": [
              "<Figure size 432x288 with 1 Axes>"
            ],
            "image/png": "[encoded data removed]"
          },
          "metadata": {
            "needs_background": "light"
          }
        }
      ],
      "source": [
        "# Plot MAE cures for validation and training\n",
        "plot_hist_regression(history_lstm2, baseline)"
      ]
    },
    {
      "cell_type": "code",
      "execution_count": 28,
      "metadata": {
        "colab": {
          "base_uri": "https://localhost:8080/"
        },
        "id": "rAIQrQDVSmSM",
        "outputId": "a727f430-2152-46b4-fd41-ef1fcdcccb71"
      },
      "outputs": [
        {
          "output_type": "stream",
          "name": "stdout",
          "text": [
            "31/31 [==============================] - 0s 13ms/step - loss: 8.3775 - mae: 2.2619\n",
            "Test MAE = 2.26 degrees\n"
          ]
        }
      ],
      "source": [
        "print('Test MAE = %.2f degrees' % model_lstm2.evaluate(test_dataset)[1])"
      ]
    },
    {
      "cell_type": "markdown",
      "metadata": {
        "id": "H3OrpvE3S4gM"
      },
      "source": [
        "Note that validation set MAE is now lower than MAE on training set -- no longer overfitting. Validation MAE is 2.16 and test MAE is also 2.16.\n",
        "\n",
        "NOTE: This is a very simple dataset with very small differences in performance between different models.  You'll just have to take my word for it that *in general* this approach works. "
      ]
    },
    {
      "cell_type": "code",
      "execution_count": 29,
      "metadata": {
        "colab": {
          "base_uri": "https://localhost:8080/"
        },
        "id": "jq_ZDTttTX6_",
        "outputId": "4f9ffd46-f335-4bfc-f197-8bad0a4be34a"
      },
      "outputs": [
        {
          "output_type": "stream",
          "name": "stdout",
          "text": [
            "WARNING:tensorflow:Layer lstm_2 will not use cuDNN kernels since it doesn't meet the criteria. It will use a generic GPU kernel as fallback when running on GPU.\n",
            "WARNING:tensorflow:Layer lstm_3 will not use cuDNN kernels since it doesn't meet the criteria. It will use a generic GPU kernel as fallback when running on GPU.\n",
            "Model: \"sequential_4\"\n",
            "_________________________________________________________________\n",
            " Layer (type)                Output Shape              Param #   \n",
            "=================================================================\n",
            " lstm_2 (LSTM)               (None, 14, 20)            2160      \n",
            "                                                                 \n",
            " lstm_3 (LSTM)               (None, 20)                3280      \n",
            "                                                                 \n",
            " dropout_1 (Dropout)         (None, 20)                0         \n",
            "                                                                 \n",
            " dense_5 (Dense)             (None, 1)                 21        \n",
            "                                                                 \n",
            "=================================================================\n",
            "Total params: 5,461\n",
            "Trainable params: 5,461\n",
            "Non-trainable params: 0\n",
            "_________________________________________________________________\n"
          ]
        }
      ],
      "source": [
        "# Performance in the previous figure can (maybe) still be improved\n",
        "# Let's try to add some more layers -- we can do this now that we're no longer overfitting\n",
        "\n",
        "model_lstm3 = models.Sequential()\n",
        "model_lstm3.add(layers.LSTM(20, input_shape=(sequence_length, len(df.columns)-1), recurrent_dropout=0.25, return_sequences=True))  # NEW!\n",
        "model_lstm3.add(layers.LSTM(20, input_shape=(sequence_length, len(df.columns)-1), recurrent_dropout=0.25))  # NEW!!\n",
        "model_lstm3.add(layers.Dropout(0.4))\n",
        "model_lstm3.add(layers.Dense(1))\n",
        "model_lstm3.summary()"
      ]
    },
    {
      "cell_type": "code",
      "execution_count": 30,
      "metadata": {
        "colab": {
          "base_uri": "https://localhost:8080/"
        },
        "id": "9xQXChtNUxzh",
        "outputId": "e9ed7269-f1cd-44c2-cb2d-ca000a13354a"
      },
      "outputs": [
        {
          "output_type": "stream",
          "name": "stdout",
          "text": [
            "Epoch 1/60\n",
            "80/80 [==============================] - 21s 202ms/step - loss: 125.8988 - mae: 10.0673 - val_loss: 86.4293 - val_mae: 7.9612\n",
            "Epoch 2/60\n",
            "80/80 [==============================] - 16s 195ms/step - loss: 63.8953 - mae: 6.7221 - val_loss: 47.1083 - val_mae: 5.4303\n",
            "Epoch 3/60\n",
            "80/80 [==============================] - 15s 193ms/step - loss: 43.5992 - mae: 5.3929 - val_loss: 36.4449 - val_mae: 4.7729\n",
            "Epoch 4/60\n",
            "80/80 [==============================] - 16s 194ms/step - loss: 34.4446 - mae: 4.7652 - val_loss: 30.6401 - val_mae: 4.4154\n",
            "Epoch 5/60\n",
            "80/80 [==============================] - 16s 194ms/step - loss: 28.4518 - mae: 4.3028 - val_loss: 25.3207 - val_mae: 4.0031\n",
            "Epoch 6/60\n",
            "80/80 [==============================] - 15s 193ms/step - loss: 24.6983 - mae: 4.0016 - val_loss: 21.8066 - val_mae: 3.7261\n",
            "Epoch 7/60\n",
            "80/80 [==============================] - 15s 194ms/step - loss: 21.5052 - mae: 3.6935 - val_loss: 19.7892 - val_mae: 3.5852\n",
            "Epoch 8/60\n",
            "80/80 [==============================] - 16s 196ms/step - loss: 18.9423 - mae: 3.4748 - val_loss: 17.8997 - val_mae: 3.4078\n",
            "Epoch 9/60\n",
            "80/80 [==============================] - 15s 194ms/step - loss: 17.3030 - mae: 3.3308 - val_loss: 15.9089 - val_mae: 3.2025\n",
            "Epoch 10/60\n",
            "80/80 [==============================] - 16s 197ms/step - loss: 16.4445 - mae: 3.2278 - val_loss: 14.1315 - val_mae: 3.0165\n",
            "Epoch 11/60\n",
            "80/80 [==============================] - 16s 194ms/step - loss: 14.1626 - mae: 3.0035 - val_loss: 13.1900 - val_mae: 2.9224\n",
            "Epoch 12/60\n",
            "80/80 [==============================] - 15s 192ms/step - loss: 13.6836 - mae: 2.9531 - val_loss: 11.4955 - val_mae: 2.7135\n",
            "Epoch 13/60\n",
            "80/80 [==============================] - 16s 195ms/step - loss: 13.2068 - mae: 2.8719 - val_loss: 11.4657 - val_mae: 2.7321\n",
            "Epoch 14/60\n",
            "80/80 [==============================] - 16s 198ms/step - loss: 12.3708 - mae: 2.7960 - val_loss: 10.3928 - val_mae: 2.5977\n",
            "Epoch 15/60\n",
            "80/80 [==============================] - 15s 191ms/step - loss: 12.2582 - mae: 2.7549 - val_loss: 9.7099 - val_mae: 2.5038\n",
            "Epoch 16/60\n",
            "80/80 [==============================] - 15s 191ms/step - loss: 12.0635 - mae: 2.7263 - val_loss: 9.5322 - val_mae: 2.4922\n",
            "Epoch 17/60\n",
            "80/80 [==============================] - 15s 193ms/step - loss: 11.8511 - mae: 2.7331 - val_loss: 9.5055 - val_mae: 2.5031\n",
            "Epoch 18/60\n",
            "80/80 [==============================] - 16s 196ms/step - loss: 11.3170 - mae: 2.6664 - val_loss: 8.7482 - val_mae: 2.3937\n",
            "Epoch 19/60\n",
            "80/80 [==============================] - 16s 194ms/step - loss: 10.7343 - mae: 2.6423 - val_loss: 8.5037 - val_mae: 2.3642\n",
            "Epoch 20/60\n",
            "80/80 [==============================] - 16s 196ms/step - loss: 10.6213 - mae: 2.5771 - val_loss: 8.5160 - val_mae: 2.3660\n",
            "Epoch 21/60\n",
            "80/80 [==============================] - 15s 192ms/step - loss: 10.9305 - mae: 2.6155 - val_loss: 8.0728 - val_mae: 2.3018\n",
            "Epoch 22/60\n",
            "80/80 [==============================] - 16s 195ms/step - loss: 10.8189 - mae: 2.6100 - val_loss: 7.4515 - val_mae: 2.1976\n",
            "Epoch 23/60\n",
            "80/80 [==============================] - 16s 194ms/step - loss: 10.0642 - mae: 2.5075 - val_loss: 7.2844 - val_mae: 2.1755\n",
            "Epoch 24/60\n",
            "80/80 [==============================] - 16s 194ms/step - loss: 9.8738 - mae: 2.4711 - val_loss: 7.1697 - val_mae: 2.1582\n",
            "Epoch 25/60\n",
            "80/80 [==============================] - 16s 195ms/step - loss: 9.7711 - mae: 2.4248 - val_loss: 6.8632 - val_mae: 2.1068\n",
            "Epoch 26/60\n",
            "80/80 [==============================] - 15s 191ms/step - loss: 9.9469 - mae: 2.4667 - val_loss: 6.9379 - val_mae: 2.1229\n",
            "Epoch 27/60\n",
            "80/80 [==============================] - 16s 195ms/step - loss: 9.4511 - mae: 2.4380 - val_loss: 6.5682 - val_mae: 2.0591\n",
            "Epoch 28/60\n",
            "80/80 [==============================] - 15s 192ms/step - loss: 9.7136 - mae: 2.4737 - val_loss: 6.4695 - val_mae: 2.0279\n",
            "Epoch 29/60\n",
            "80/80 [==============================] - 16s 197ms/step - loss: 9.3254 - mae: 2.4284 - val_loss: 6.5547 - val_mae: 2.0440\n",
            "Epoch 30/60\n",
            "80/80 [==============================] - 15s 191ms/step - loss: 9.0387 - mae: 2.3775 - val_loss: 6.3705 - val_mae: 2.0101\n",
            "Epoch 31/60\n",
            "80/80 [==============================] - 16s 196ms/step - loss: 9.1192 - mae: 2.3746 - val_loss: 5.8902 - val_mae: 1.9230\n",
            "Epoch 32/60\n",
            "80/80 [==============================] - 16s 195ms/step - loss: 8.6224 - mae: 2.3480 - val_loss: 5.9549 - val_mae: 1.9298\n",
            "Epoch 33/60\n",
            "80/80 [==============================] - 15s 194ms/step - loss: 8.6299 - mae: 2.3460 - val_loss: 5.9602 - val_mae: 1.9306\n"
          ]
        }
      ],
      "source": [
        "model_lstm3.compile(optimizer='rmsprop', loss='mse', metrics=['mae'])\n",
        "\n",
        "callbacks = [EarlyStopping(monitor='val_mae', patience=2)]\n",
        "\n",
        "history_lstm3 = model_lstm3.fit(train_dataset, epochs=60,  # increased number of epochs\n",
        "                            validation_data=val_dataset,\n",
        "                            callbacks=callbacks)  # but added early stopping callback\n"
      ]
    },
    {
      "cell_type": "code",
      "execution_count": 31,
      "metadata": {
        "colab": {
          "base_uri": "https://localhost:8080/",
          "height": 315
        },
        "id": "PtFfB3YaU4k3",
        "outputId": "7ab6a6fb-7a67-477b-d240-b169e9dcb07b"
      },
      "outputs": [
        {
          "output_type": "display_data",
          "data": {
            "text/plain": [
              "<Figure size 432x288 with 1 Axes>"
            ],
            "image/png": "[encoded data removed]"
          },
          "metadata": {
            "needs_background": "light"
          }
        },
        {
          "output_type": "stream",
          "name": "stdout",
          "text": [
            "31/31 [==============================] - 1s 19ms/step - loss: 6.5309 - mae: 1.9697\n",
            "Test MAE = 1.97 degrees\n"
          ]
        }
      ],
      "source": [
        "# Plot MAE cures for validation and training\n",
        "plot_hist_regression(history_lstm3, baseline)\n",
        "print('Test MAE = %.2f degrees' % model_lstm3.evaluate(test_dataset)[1])"
      ]
    },
    {
      "cell_type": "markdown",
      "metadata": {
        "id": "eUJqRqp1XJnL"
      },
      "source": [
        "Validation MAE = 1.92 degrees\n",
        "\n",
        "Test MAE = 1.89 degrees\n"
      ]
    },
    {
      "cell_type": "markdown",
      "metadata": {
        "id": "zGEuNqw2csXj"
      },
      "source": [
        "# Text"
      ]
    },
    {
      "cell_type": "markdown",
      "metadata": {
        "id": "dtv0EjsTbwvm"
      },
      "source": [
        "## Data prep\n",
        "\n",
        "We'll try to predict whether the review for a movie is positive or negative looking only at the text of the review.\n",
        "\n",
        "We'll use the IMDB text dataset for this task, which is available on `keras.datasets` and described [here](https://keras.io/api/datasets/imdb/). \n",
        "\n",
        "We'll merge the training and test sets and use 60% for training, 20% for validation, and 20% for testing.\n",
        "\n",
        "\n",
        "As this is a binary classificationp problem, we'll use the binary cross entropy loss function. We will keep track of accuracy when training and evaluating the model.\n"
      ]
    },
    {
      "cell_type": "code",
      "execution_count": 20,
      "metadata": {
        "id": "i-mH-8IGwGo1"
      },
      "outputs": [],
      "source": [
        "def plot_hist_classif(hist):\n",
        "  n_ = len(hist.history['accuracy'])\n",
        "  plt.plot(range(1, n_+1), 100*np.asarray(hist.history['accuracy']), 'bo', label='Accuracy on training set')\n",
        "  plt.plot(range(1, n_+1), 100*np.asarray(hist.history['val_accuracy']), 'b', label='Accuracy on validation set')\n",
        "  plt.legend()\n",
        "  plt.xlabel(\"Epoch\") \n",
        "  plt.ylabel(\"Accuracy\")\n",
        "  plt.ylim(0, 100)\n",
        "  plt.axhline(y=50)\n",
        "  plt.show()\n"
      ]
    },
    {
      "cell_type": "code",
      "execution_count": 21,
      "metadata": {
        "colab": {
          "base_uri": "https://localhost:8080/"
        },
        "id": "4TW3Vg49n5V-",
        "outputId": "95525981-8533-41b0-dbb9-6907ac9f54a5"
      },
      "outputs": [
        {
          "output_type": "stream",
          "name": "stdout",
          "text": [
            "Loading data...\n",
            "25000 train sequences (25000,)\n",
            "25000 test sequences (25000,)\n"
          ]
        }
      ],
      "source": [
        "max_features = 15000  # only consider the top 15k words\n",
        "maxlen = 500  # first 500 words of each review\n",
        "batch_size = 32\n",
        "\n",
        "print('Loading data...')\n",
        "# Load dataset\n",
        "(x_train, y_train), (x_test, y_test) = keras.datasets.imdb.load_data(num_words=max_features)\n",
        "print(len(x_train), 'train sequences', x_train.shape)\n",
        "print(len(x_test), 'test sequences', x_test.shape)"
      ]
    },
    {
      "cell_type": "code",
      "execution_count": 22,
      "metadata": {
        "colab": {
          "base_uri": "https://localhost:8080/"
        },
        "id": "8ApTb-jYtSOm",
        "outputId": "bfef7097-64e8-4de8-de9f-c09ff8273b86"
      },
      "outputs": [
        {
          "output_type": "stream",
          "name": "stdout",
          "text": [
            "0.5\n",
            "0.5\n"
          ]
        }
      ],
      "source": [
        "# How balanced is this dataset?\n",
        "print(np.sum(y_train)/len(y_train))\n",
        "print(np.sum(y_test)/len(y_test))"
      ]
    },
    {
      "cell_type": "code",
      "execution_count": 23,
      "metadata": {
        "colab": {
          "base_uri": "https://localhost:8080/"
        },
        "id": "Z53Fbicqr8tm",
        "outputId": "e4dd5102-3c13-46d5-ef0b-814061b3f895"
      },
      "outputs": [
        {
          "output_type": "stream",
          "name": "stdout",
          "text": [
            "(50000,) (50000,)\n",
            "30000 train sequences (30000,)\n",
            "10000 validation sequences (10000,)\n",
            "10000 test sequences (10000,)\n"
          ]
        }
      ],
      "source": [
        "# Merge the two datasets and divide: 60% for training, 20% validation, 20% test\n",
        "x_, y_ = np.concatenate((x_train, x_test)), np.concatenate((y_train, y_test))\n",
        "print(x_.shape, y_.shape)\n",
        "x_train, x_test, y_train, y_test = train_test_split(x_, y_, test_size=0.4, random_state=10)  # 60/40 split\n",
        "x_val, x_test, y_val, y_test = train_test_split(x_test, y_test, test_size=0.5, random_state=10)  # 50/50 split\n",
        "print(len(x_train), 'train sequences', x_train.shape)\n",
        "print(len(x_val), 'validation sequences', x_val.shape)\n",
        "print(len(x_test), 'test sequences', x_test.shape)"
      ]
    },
    {
      "cell_type": "code",
      "execution_count": 24,
      "metadata": {
        "colab": {
          "base_uri": "https://localhost:8080/"
        },
        "id": "5v_Hy-r8o8pR",
        "outputId": "9b4ba732-bf2f-4c52-b1f5-a2bf4b288918"
      },
      "outputs": [
        {
          "output_type": "execute_result",
          "data": {
            "text/plain": [
              "[1, 11531, 186, 8, 28, 6, 6482, 7, 269, 4042]"
            ]
          },
          "metadata": {},
          "execution_count": 24
        }
      ],
      "source": [
        "x_train[0][:10]  # numbers!!"
      ]
    },
    {
      "cell_type": "code",
      "execution_count": 25,
      "metadata": {
        "colab": {
          "base_uri": "https://localhost:8080/",
          "height": 72
        },
        "id": "rgEgNSLBpFwh",
        "outputId": "d847390b-c3c9-40a5-9df9-ef194dfe6bbb"
      },
      "outputs": [
        {
          "output_type": "execute_result",
          "data": {
            "text/plain": [
              "\"the lilly horror in one is fatale br looks meaningless in bronson be showing as you debut film ample to and ingredients zombi ample they for series and thought she's all manipulate and believing in j show look early last quote desire tight interesting that's kind out is far shelter but of frame br and\""
            ],
            "application/vnd.google.colaboratory.intrinsic+json": {
              "type": "string"
            }
          },
          "metadata": {},
          "execution_count": 25
        }
      ],
      "source": [
        "# We can explore what one of the reviews looks like at this point.\n",
        "\n",
        "# Retrieve the word index file that maps words to indices\n",
        "word_index = keras.datasets.imdb.get_word_index()\n",
        "# Reverse the word index to obtain a dict mapping indices to words (which is what we have)\n",
        "inverted_word_index = dict((i, word) for (word, i) in word_index.items())\n",
        "# Decode the first sequence in the dataset\n",
        "decoded_sequence = \" \".join(inverted_word_index[i] for i in x_train[0])\n",
        "decoded_sequence"
      ]
    },
    {
      "cell_type": "code",
      "execution_count": 26,
      "metadata": {
        "colab": {
          "base_uri": "https://localhost:8080/"
        },
        "id": "ibmO0V-gcthG",
        "outputId": "8300abea-da26-4529-a590-328245bc35a3"
      },
      "outputs": [
        {
          "output_type": "stream",
          "name": "stdout",
          "text": [
            "Pad sequences\n",
            "x_train shape: (30000, 500)\n",
            "x_val shape: (10000, 500)\n",
            "x_test shape: (10000, 500)\n"
          ]
        }
      ],
      "source": [
        "# Let's ensure all sequences have the same length through padding\n",
        "# - shorter reviews are padded with 0's\n",
        "# - longer reviews are cut\n",
        "print('Pad sequences')\n",
        "x_train = keras.preprocessing.sequence.pad_sequences(x_train, maxlen=maxlen)\n",
        "x_val = keras.preprocessing.sequence.pad_sequences(x_val, maxlen=maxlen)\n",
        "x_test = keras.preprocessing.sequence.pad_sequences(x_test, maxlen=maxlen)\n",
        "print('x_train shape:', x_train.shape)\n",
        "print('x_val shape:', x_val.shape)\n",
        "print('x_test shape:', x_test.shape)"
      ]
    },
    {
      "cell_type": "code",
      "execution_count": 27,
      "metadata": {
        "colab": {
          "base_uri": "https://localhost:8080/"
        },
        "id": "sBpQpwBAk44H",
        "outputId": "e127e9d3-52dd-4571-bdd9-7f74a7c8663b"
      },
      "outputs": [
        {
          "output_type": "stream",
          "name": "stdout",
          "text": [
            "Model: \"sequential_3\"\n",
            "_________________________________________________________________\n",
            " Layer (type)                Output Shape              Param #   \n",
            "=================================================================\n",
            " embedding (Embedding)       (None, 500, 128)          1920000   \n",
            "                                                                 \n",
            " dense_3 (Dense)             (None, 500, 64)           8256      \n",
            "                                                                 \n",
            " dropout (Dropout)           (None, 500, 64)           0         \n",
            "                                                                 \n",
            " dense_4 (Dense)             (None, 500, 64)           4160      \n",
            "                                                                 \n",
            " dropout_1 (Dropout)         (None, 500, 64)           0         \n",
            "                                                                 \n",
            " flatten_1 (Flatten)         (None, 32000)             0         \n",
            "                                                                 \n",
            " dense_5 (Dense)             (None, 1)                 32001     \n",
            "                                                                 \n",
            "=================================================================\n",
            "Total params: 1,964,417\n",
            "Trainable params: 1,964,417\n",
            "Non-trainable params: 0\n",
            "_________________________________________________________________\n"
          ]
        }
      ],
      "source": [
        "# Basic feedforward model\n",
        "model = models.Sequential()\n",
        "model.add(layers.Embedding(max_features, 128, input_length=maxlen))\n",
        "model.add(layers.Dense(64, activation='relu'))\n",
        "model.add(layers.Dropout(0.5))\n",
        "model.add(layers.Dense(64, activation='relu'))\n",
        "model.add(layers.Dropout(0.5))\n",
        "model.add(layers.Flatten())\n",
        "model.add(layers.Dense(1, activation=\"sigmoid\"))\n",
        "model.summary()"
      ]
    },
    {
      "cell_type": "code",
      "execution_count": 28,
      "metadata": {
        "colab": {
          "base_uri": "https://localhost:8080/"
        },
        "id": "-8c7tCS5vrC3",
        "outputId": "e44a7057-c118-4f5b-d2a4-ba0f92628d1a"
      },
      "outputs": [
        {
          "output_type": "stream",
          "name": "stdout",
          "text": [
            "Epoch 1/20\n",
            "938/938 [==============================] - 13s 13ms/step - loss: 0.4306 - accuracy: 0.7772 - val_loss: 0.2704 - val_accuracy: 0.8926\n",
            "Epoch 2/20\n",
            "938/938 [==============================] - 12s 13ms/step - loss: 0.2452 - accuracy: 0.9031 - val_loss: 0.3351 - val_accuracy: 0.8663\n",
            "Epoch 3/20\n",
            "938/938 [==============================] - 12s 12ms/step - loss: 0.2079 - accuracy: 0.9206 - val_loss: 0.3112 - val_accuracy: 0.8773\n",
            "Epoch 4/20\n",
            "938/938 [==============================] - 12s 12ms/step - loss: 0.1908 - accuracy: 0.9278 - val_loss: 0.4213 - val_accuracy: 0.8484\n",
            "Epoch 5/20\n",
            "938/938 [==============================] - 12s 12ms/step - loss: 0.1752 - accuracy: 0.9326 - val_loss: 0.2723 - val_accuracy: 0.8977\n",
            "Epoch 6/20\n",
            "938/938 [==============================] - 12s 12ms/step - loss: 0.1668 - accuracy: 0.9358 - val_loss: 0.4052 - val_accuracy: 0.8455\n",
            "Epoch 7/20\n",
            "938/938 [==============================] - 12s 12ms/step - loss: 0.1577 - accuracy: 0.9404 - val_loss: 0.3099 - val_accuracy: 0.8812\n",
            "Epoch 8/20\n",
            "938/938 [==============================] - 12s 13ms/step - loss: 0.1519 - accuracy: 0.9428 - val_loss: 0.2778 - val_accuracy: 0.8928\n",
            "Epoch 9/20\n",
            "938/938 [==============================] - 12s 12ms/step - loss: 0.1463 - accuracy: 0.9459 - val_loss: 0.2879 - val_accuracy: 0.8955\n",
            "Epoch 10/20\n",
            "938/938 [==============================] - 12s 12ms/step - loss: 0.1367 - accuracy: 0.9479 - val_loss: 0.3096 - val_accuracy: 0.8879\n",
            "Epoch 11/20\n",
            "938/938 [==============================] - 12s 12ms/step - loss: 0.1316 - accuracy: 0.9510 - val_loss: 0.3018 - val_accuracy: 0.8937\n",
            "Epoch 12/20\n",
            "938/938 [==============================] - 13s 14ms/step - loss: 0.1217 - accuracy: 0.9534 - val_loss: 0.3136 - val_accuracy: 0.8908\n",
            "Epoch 13/20\n",
            "938/938 [==============================] - 12s 13ms/step - loss: 0.1199 - accuracy: 0.9553 - val_loss: 0.3586 - val_accuracy: 0.8842\n",
            "Epoch 14/20\n",
            "938/938 [==============================] - 12s 13ms/step - loss: 0.1091 - accuracy: 0.9607 - val_loss: 0.3568 - val_accuracy: 0.8828\n",
            "Epoch 15/20\n",
            "938/938 [==============================] - 13s 14ms/step - loss: 0.1057 - accuracy: 0.9620 - val_loss: 0.3599 - val_accuracy: 0.8846\n",
            "Epoch 16/20\n",
            "938/938 [==============================] - 13s 14ms/step - loss: 0.0990 - accuracy: 0.9629 - val_loss: 0.3619 - val_accuracy: 0.8825\n",
            "Epoch 17/20\n",
            "938/938 [==============================] - 12s 13ms/step - loss: 0.0995 - accuracy: 0.9633 - val_loss: 0.4445 - val_accuracy: 0.8662\n",
            "Epoch 18/20\n",
            "938/938 [==============================] - 12s 13ms/step - loss: 0.0942 - accuracy: 0.9669 - val_loss: 0.3769 - val_accuracy: 0.8790\n",
            "Epoch 19/20\n",
            "938/938 [==============================] - 12s 12ms/step - loss: 0.0897 - accuracy: 0.9679 - val_loss: 0.3963 - val_accuracy: 0.8802\n",
            "Epoch 20/20\n",
            "938/938 [==============================] - 12s 12ms/step - loss: 0.0845 - accuracy: 0.9705 - val_loss: 0.4648 - val_accuracy: 0.8680\n"
          ]
        }
      ],
      "source": [
        "model.compile(optimizer=\"rmsprop\", loss=\"binary_crossentropy\", metrics=[\"accuracy\"])\n",
        "history = model.fit(x_train, y_train, batch_size=batch_size, epochs=20, validation_data=(x_val, y_val))"
      ]
    },
    {
      "cell_type": "code",
      "execution_count": 29,
      "metadata": {
        "colab": {
          "base_uri": "https://localhost:8080/",
          "height": 319
        },
        "id": "dKBVw5mHv_oX",
        "outputId": "8d5408f9-86c0-48de-d62b-0ca75ef9d7fc"
      },
      "outputs": [
        {
          "output_type": "display_data",
          "data": {
            "text/plain": [
              "<Figure size 432x288 with 1 Axes>"
            ],
            "image/png": "[encoded data removed]"
          },
          "metadata": {
            "needs_background": "light"
          }
        },
        {
          "output_type": "stream",
          "name": "stdout",
          "text": [
            "313/313 [==============================] - 2s 5ms/step - loss: 0.4476 - accuracy: 0.8767\n",
            "Test Accuracy = 0.88\n"
          ]
        }
      ],
      "source": [
        "plot_hist_classif(history)\n",
        "print('Test Accuracy = %.2f' % model.evaluate(x_test, y_test)[1])  # overfitting!"
      ]
    },
    {
      "cell_type": "code",
      "execution_count": 30,
      "metadata": {
        "colab": {
          "base_uri": "https://localhost:8080/"
        },
        "id": "Ieh7Wl9Pwh8V",
        "outputId": "2822de3c-d64a-4b8e-fda1-791a6b5e51cf"
      },
      "outputs": [
        {
          "output_type": "stream",
          "name": "stdout",
          "text": [
            "Model: \"sequential_4\"\n",
            "_________________________________________________________________\n",
            " Layer (type)                Output Shape              Param #   \n",
            "=================================================================\n",
            " embedding_1 (Embedding)     (None, None, 64)          960000    \n",
            "                                                                 \n",
            " lstm (LSTM)                 (None, 128)               98816     \n",
            "                                                                 \n",
            " dropout_2 (Dropout)         (None, 128)               0         \n",
            "                                                                 \n",
            " dense_6 (Dense)             (None, 1)                 129       \n",
            "                                                                 \n",
            "=================================================================\n",
            "Total params: 1,058,945\n",
            "Trainable params: 1,058,945\n",
            "Non-trainable params: 0\n",
            "_________________________________________________________________\n"
          ]
        }
      ],
      "source": [
        "# Let's try an RNN\n",
        "model = models.Sequential()\n",
        "model.add(layers.Embedding(max_features, 64))\n",
        "model.add(layers.LSTM(128, return_sequences=False))\n",
        "model.add(layers.Dropout(0.5))\n",
        "model.add(layers.Dense(1, activation=\"sigmoid\"))\n",
        "model.compile(optimizer=\"rmsprop\", loss=\"binary_crossentropy\", metrics=[\"accuracy\"])\n",
        "model.summary()"
      ]
    },
    {
      "cell_type": "code",
      "execution_count": 31,
      "metadata": {
        "colab": {
          "base_uri": "https://localhost:8080/",
          "height": 537
        },
        "id": "Sd54xZMmxKBQ",
        "outputId": "f5a76816-4285-436b-99e1-5455208519fc"
      },
      "outputs": [
        {
          "output_type": "stream",
          "name": "stdout",
          "text": [
            "Epoch 1/20\n",
            "938/938 [==============================] - 91s 94ms/step - loss: 0.4291 - accuracy: 0.8132 - val_loss: 0.3602 - val_accuracy: 0.8728\n",
            "Epoch 2/20\n",
            "938/938 [==============================] - 88s 94ms/step - loss: 0.2852 - accuracy: 0.8884 - val_loss: 0.2926 - val_accuracy: 0.8888\n",
            "Epoch 3/20\n",
            "938/938 [==============================] - 88s 94ms/step - loss: 0.2333 - accuracy: 0.9125 - val_loss: 0.2969 - val_accuracy: 0.8767\n",
            "Epoch 4/20\n",
            "938/938 [==============================] - 87s 93ms/step - loss: 0.2065 - accuracy: 0.9243 - val_loss: 0.2759 - val_accuracy: 0.9049\n",
            "Epoch 5/20\n",
            "938/938 [==============================] - 87s 93ms/step - loss: 0.1793 - accuracy: 0.9365 - val_loss: 0.2533 - val_accuracy: 0.9032\n",
            "Epoch 6/20\n",
            "938/938 [==============================] - 87s 93ms/step - loss: 0.1602 - accuracy: 0.9448 - val_loss: 0.2891 - val_accuracy: 0.8952\n"
          ]
        },
        {
          "output_type": "display_data",
          "data": {
            "text/plain": [
              "<Figure size 432x288 with 1 Axes>"
            ],
            "image/png": "[encoded data removed]"
          },
          "metadata": {
            "needs_background": "light"
          }
        },
        {
          "output_type": "stream",
          "name": "stdout",
          "text": [
            "313/313 [==============================] - 12s 37ms/step - loss: 0.2901 - accuracy: 0.8938\n",
            "Test Accuracy = 0.89\n"
          ]
        }
      ],
      "source": [
        "# This model will take a long time to train, so we add an early stopping criterion\n",
        "# N.B: It's actually much faster to train WITHOUT A GPU!!\n",
        "callbacks = [EarlyStopping(monitor='val_accuracy', patience=2)]\n",
        "history = model.fit(x_train, y_train, batch_size=batch_size, epochs=20, validation_data=(x_val, y_val), callbacks=callbacks)\n",
        "plot_hist_classif(history)\n",
        "print('Test Accuracy = %.2f' % model.evaluate(x_test, y_test)[1])\n",
        "# Note that we're still overfitting, but this is just an example of use"
      ]
    },
    {
      "cell_type": "markdown",
      "metadata": {
        "id": "kzZhXm5gkz_g"
      },
      "source": [
        "## Your turn!\n",
        "\n",
        "Implement a bidirectional RNN that can outperform the LSTM model we had above.\n",
        "\n",
        "A starting skeleton could be:\n",
        " \n",
        "*   Embedding layer with an output dimension of 64\n",
        "*   Bidirectional layer with a 32-neuron LSTM layer\n",
        "*   Dense layer with 1 neuron and a sigmoid activation\n",
        "\n",
        "Some suggestions:\n",
        "\n",
        "- Change the sizes of the layers (i.e., the numbers of neurons)\n",
        "- Add dropout\n",
        "- Add other recurrent and/or bidirectional layers\n",
        "\n",
        "Once you have a model that scores over 90% on the validation set, check its performance on the test set and upload it on the code checker in Moodle.\n",
        "\n",
        "Note that the model I'm suggesting above will be able to reach the desired performance, but it will show signs of overfitting. Can you do it by adding regularization (dropout, smaller network) so you don't overfit?\n"
      ]
    },
    {
      "cell_type": "code",
      "execution_count": 42,
      "metadata": {
        "id": "jCHOC7dyadaj",
        "colab": {
          "base_uri": "https://localhost:8080/",
          "height": 937
        },
        "outputId": "a487085c-be2e-4c01-e81c-17cb6510d202"
      },
      "outputs": [
        {
          "output_type": "stream",
          "name": "stdout",
          "text": [
            "Model: \"sequential_11\"\n",
            "_________________________________________________________________\n",
            " Layer (type)                Output Shape              Param #   \n",
            "=================================================================\n",
            " embedding_8 (Embedding)     (None, None, 64)          960000    \n",
            "                                                                 \n",
            " bidirectional_11 (Bidirecti  (None, None, 64)         24832     \n",
            " onal)                                                           \n",
            "                                                                 \n",
            " dense_14 (Dense)            (None, None, 1)           65        \n",
            "                                                                 \n",
            " bidirectional_12 (Bidirecti  (None, 64)               8704      \n",
            " onal)                                                           \n",
            "                                                                 \n",
            " dropout_9 (Dropout)         (None, 64)                0         \n",
            "                                                                 \n",
            " dense_15 (Dense)            (None, 1)                 65        \n",
            "                                                                 \n",
            "=================================================================\n",
            "Total params: 993,666\n",
            "Trainable params: 993,666\n",
            "Non-trainable params: 0\n",
            "_________________________________________________________________\n",
            "None\n",
            "Epoch 1/10\n",
            "938/938 [==============================] - 350s 366ms/step - loss: 0.4759 - accuracy: 0.7665 - val_loss: 0.3445 - val_accuracy: 0.8610\n",
            "Epoch 2/10\n",
            "938/938 [==============================] - 340s 363ms/step - loss: 0.2993 - accuracy: 0.8895 - val_loss: 0.2817 - val_accuracy: 0.8874\n",
            "Epoch 3/10\n",
            "938/938 [==============================] - 340s 362ms/step - loss: 0.2424 - accuracy: 0.9089 - val_loss: 0.2853 - val_accuracy: 0.8888\n",
            "Epoch 4/10\n",
            "938/938 [==============================] - 340s 363ms/step - loss: 0.2047 - accuracy: 0.9267 - val_loss: 0.3174 - val_accuracy: 0.8960\n",
            "Epoch 5/10\n",
            "938/938 [==============================] - 341s 364ms/step - loss: 0.1827 - accuracy: 0.9364 - val_loss: 0.3534 - val_accuracy: 0.8786\n"
          ]
        },
        {
          "output_type": "display_data",
          "data": {
            "text/plain": [
              "<Figure size 432x288 with 1 Axes>"
            ],
            "image/png": "[encoded data removed]"
          },
          "metadata": {
            "needs_background": "light"
          }
        },
        {
          "output_type": "stream",
          "name": "stdout",
          "text": [
            "313/313 [==============================] - 40s 123ms/step - loss: 0.3106 - accuracy: 0.8985\n",
            "Test Accuracy = 0.90\n"
          ]
        }
      ],
      "source": [
        "from keras.layers.wrappers import Bidirectional\n",
        "n_ = 10  # number of epochs. You can edit this\n",
        "\n",
        "model = models.Sequential()\n",
        "# YOUR CODE HERE!\n",
        "\n",
        "model.add(layers.Embedding(max_features, 64))\n",
        "model.add(layers.Bidirectional(layers.LSTM(32, return_sequences=True)))\n",
        "model.add(layers.Dense(1, activation='sigmoid'))\n",
        "model.add(layers.Bidirectional(layers.LSTM(32, return_sequences=False)))\n",
        "model.add(layers.Dropout(0.55))\n",
        "model.add(layers.Dense(1, activation='sigmoid'))\n",
        "\n",
        "# I DON'T RECOMMEND THAT YOU CHANGE CODE AFTER THIS POINT\n",
        "model.compile(optimizer=\"rmsprop\", loss=\"binary_crossentropy\", metrics=[\"accuracy\"])\n",
        "\n",
        "print(model.summary())\n",
        "\n",
        "# This model will take a long time to train, so we add an early stopping criterion\n",
        "# I've also added a ModelCheckpoint that will save the best model according to val_accuracy regardless of whether we continue training\n",
        "callbacks = [EarlyStopping(monitor='val_accuracy', patience=1),\n",
        "             ModelCheckpoint(\"model.keras\", save_best_only=True, monitor=\"val_accuracy\", mode='max')]\n",
        "\n",
        "history = model.fit(x_train, y_train, batch_size=batch_size, epochs=n_, \n",
        "                    validation_data=(x_val, y_val), \n",
        "                    callbacks=callbacks)\n",
        "plot_hist_classif(history)\n",
        "model = keras.models.load_model(\"model.keras\")\n",
        "print('Test Accuracy = %.2f' % model.evaluate(x_test, y_test)[1])"
      ]
    },
    {
      "cell_type": "code",
      "execution_count": 44,
      "metadata": {
        "id": "ZFBmg66_CR7y",
        "colab": {
          "base_uri": "https://localhost:8080/"
        },
        "outputId": "75a6e9ef-f588-4cb4-8320-2a70314732be"
      },
      "outputs": [
        {
          "output_type": "stream",
          "name": "stdout",
          "text": [
            "Your model is accurate enough!\n",
            "Model saved! You can now upload it to the lab quiz.\n"
          ]
        }
      ],
      "source": [
        "if model.count_params() > 1000000:\n",
        "    print(\"Due to memory constraints on Moodle, the lab quiz has a 10MB limit on your model size, so you need to use a smaller model to validate through the auto-marker.\")\n",
        "\n",
        "if history.history[\"val_accuracy\"][-1] > 0.85:\n",
        "    print(\"Your model is accurate enough!\")\n",
        "\n",
        "else:\n",
        "    print(\"Accuracy is below the threshold!\")\n",
        "    raise Exception(\"Your model isn't accurate enough to pass the progress checker!\")\n",
        "# Save the model into a local folder\n",
        "keras.models.save_model(model, \"Model.h5\",save_format='h5')\n",
        "print('Model saved! You can now upload it to the lab quiz.')"
      ]
    },
    {
      "cell_type": "code",
      "execution_count": null,
      "metadata": {
        "id": "hv7PyBQQsXav"
      },
      "outputs": [],
      "source": [
        ""
      ]
    }
  ],
  "metadata": {
    "colab": {
      "collapsed_sections": [
        "WlhjIvZR_a0Q",
        "rloJamyvWPWj",
        "7c-duA1Z_a0R",
        "3ozUAZX__a0R"
      ],
      "name": "rnn.ipynb",
      "provenance": []
    },
    "kernelspec": {
      "display_name": "Python 3",
      "language": "python",
      "name": "python3"
    },
    "language_info": {
      "codemirror_mode": {
        "name": "ipython",
        "version": 3
      },
      "file_extension": ".py",
      "mimetype": "text/x-python",
      "name": "python",
      "nbconvert_exporter": "python",
      "pygments_lexer": "ipython3",
      "version": "3.7.10"
    },
    "accelerator": "GPU"
  },
  "nbformat": 4,
  "nbformat_minor": 0
}