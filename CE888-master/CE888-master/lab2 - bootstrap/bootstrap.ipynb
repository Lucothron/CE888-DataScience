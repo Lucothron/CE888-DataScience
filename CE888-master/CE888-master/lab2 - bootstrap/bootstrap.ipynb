{
  "nbformat": 4,
  "nbformat_minor": 2,
  "metadata": {
    "colab": {
      "name": "bootstrap.ipynb",
      "provenance": [],
      "include_colab_link": true
    },
    "kernelspec": {
      "name": "python3",
      "display_name": "Python 3.9.6 64-bit"
    },
    "language_info": {
      "codemirror_mode": {
        "name": "ipython",
        "version": 3
      },
      "file_extension": ".py",
      "mimetype": "text/x-python",
      "name": "python",
      "nbconvert_exporter": "python",
      "pygments_lexer": "ipython3",
      "version": "3.9.6"
    },
    "pycharm": {
      "stem_cell": {
        "cell_type": "raw",
        "metadata": {
          "collapsed": false
        },
        "source": []
      }
    },
    "interpreter": {
      "hash": "ca585555a2867b459a38eaf8b2b47956aef7a6f770e52f1f5dfa1f8f05e57688"
    }
  },
  "cells": [
    {
      "cell_type": "markdown",
      "source": [
        "<a href=\"https://colab.research.google.com/github/albanda/CE888/blob/master/lab2%20-%20bootstrap/bootstrap.ipynb\" target=\"_parent\"><img src=\"https://colab.research.google.com/assets/colab-badge.svg\" alt=\"Open In Colab\"/></a>"
      ],
      "metadata": {
        "id": "view-in-github",
        "colab_type": "text"
      }
    },
    {
      "cell_type": "markdown",
      "source": [
        "In this notebook you'll create your own bootstrap function following the bootstrap algorithm (check the lecture notes!)"
      ],
      "metadata": {
        "id": "nCi_99yMYIb1"
      }
    },
    {
      "cell_type": "code",
      "execution_count": 1,
      "source": [
        "import matplotlib\r\n",
        "import pandas as pd\r\n",
        "import seaborn as sns\r\n",
        "import numpy as np\r\n",
        "\r\n"
      ],
      "outputs": [],
      "metadata": {
        "id": "LY5zujI2YC37",
        "pycharm": {
          "name": "#%%# Imports\n"
        }
      }
    },
    {
      "cell_type": "code",
      "execution_count": 2,
      "source": [
        "# Load the data\r\n",
        "df = pd.read_csv('https://raw.githubusercontent.com/albanda/CE888/master/lab2%20-%20bootstrap/customers.csv')\r\n",
        "data = df.values.T[1]"
      ],
      "outputs": [],
      "metadata": {
        "id": "Eqkwj4SMY38t"
      }
    },
    {
      "cell_type": "code",
      "execution_count": 36,
      "source": [
        "# Checking the notes from the lecture, create here your own bootstrap function:\r\n",
        "# 1. Sample from the input array x to create an array of samples of shape (n_bootstraps, sample_size)\r\n",
        "# Hint: Check the function random.choice() on Numpy\r\n",
        "# 2. Calculate and save the mean of the array (this is \"data_mean\" that is returned by the function)\r\n",
        "# 3. Calculate the mean from each bootstrap (i.e., row) and store it.\r\n",
        "# (This should be an array of n_bootstraps values)\r\n",
        "# 4. Calculate the lower and upper bounds for a 95% CI (hint: check the percentile function on Numpy)\r\n",
        "# 5. Return data_mean, and the lower and upper bounds of your interval\r\n",
        "def bootstrap_mean(x, sample_size, n_bootstraps):\r\n",
        "\t\r\n",
        "\tbtst = np.random.choice(x, (n_bootstraps, sample_size))\r\n",
        "\r\n",
        "\tdata_mean = np.mean(x)\r\n",
        "\tmean_sort = np.sort(np.mean(btst, axis = 1))\r\n",
        "\r\n",
        "\tlower = np.percentile(mean_sort, 2.5)\r\n",
        "\tupper = np.percentile(mean_sort, 97.5)\r\n",
        "\r\n",
        "\treturn data_mean, lower, upper\r\n"
      ],
      "outputs": [],
      "metadata": {
        "id": "Gxvc_bScYC4H",
        "pycharm": {
          "name": "#%%\n"
        }
      }
    },
    {
      "cell_type": "code",
      "execution_count": 37,
      "source": [
        "# Call your bootstrap function and plot the results\r\n",
        "\r\n",
        "boots = []\r\n",
        "for i in range(100, 50000, 1000):\r\n",
        "    boot = bootstrap_mean(data, data.shape[0], i)\r\n",
        "    boots.append([i, boot[0], \"mean\"])\r\n",
        "    boots.append([i, boot[1], \"lower\"])\r\n",
        "    boots.append([i, boot[2], \"upper\"])\r\n",
        "\r\n",
        "df_boot = pd.DataFrame(boots, columns=['Bootstrap Iterations', 'Mean', \"Value\"])\r\n",
        "sns_plot = sns.lmplot(df_boot.columns[0], df_boot.columns[1], data=df_boot, fit_reg=False, hue=\"Value\")\r\n",
        "\r\n",
        "sns_plot.axes[0, 0].set_ylim(0,)\r\n",
        "sns_plot.axes[0, 0].set_xlim(0, 50000)\r\n"
      ],
      "outputs": [
        {
          "output_type": "stream",
          "name": "stderr",
          "text": [
            "C:\\Python3\\lib\\site-packages\\seaborn\\_decorators.py:36: FutureWarning: Pass the following variables as keyword args: x, y. From version 0.12, the only valid positional argument will be `data`, and passing other arguments without an explicit keyword will result in an error or misinterpretation.\n",
            "  warnings.warn(\n"
          ]
        },
        {
          "output_type": "execute_result",
          "data": {
            "text/plain": [
              "(0.0, 50000.0)"
            ]
          },
          "metadata": {},
          "execution_count": 37
        },
        {
          "output_type": "display_data",
          "data": {
            "text/plain": [
              "<Figure size 425.125x360 with 1 Axes>"
            ],
            "image/png": "[encoded data removed]"
          },
          "metadata": {
            "needs_background": "light"
          }
        }
      ],
      "metadata": {
        "id": "AN7sEOcMYC4P",
        "pycharm": {
          "name": "#%%\n"
        }
      }
    },
    {
      "cell_type": "markdown",
      "source": [
        "\n",
        "Now, modify the bootstrap function you created above so that you can pass your desired confidence interval as a parameter.\n",
        "\n"
      ],
      "metadata": {
        "id": "MjtP4e2_YC4V"
      }
    },
    {
      "cell_type": "code",
      "execution_count": 40,
      "source": [
        "def bootstrap_mean_ci(sample, sample_size, n_bootstraps, ci):\r\n",
        "\r\n",
        "\tci_val = (100 - ci) / 2\r\n",
        "\r\n",
        "\tbtst = np.random.choice(sample, (n_bootstraps, sample_size))\r\n",
        "\r\n",
        "\tdata_mean = np.mean(sample)\r\n",
        "\tmean_sort = np.sort(np.mean(btst, axis = 1))\r\n",
        "\r\n",
        "\tlower = np.percentile(mean_sort, ci_val)\r\n",
        "\tupper = np.percentile(mean_sort, 100 - ci_val)\r\n",
        "\t\r\n",
        "\treturn data_mean, lower, upper"
      ],
      "outputs": [],
      "metadata": {
        "id": "3K9j0FuGYhHs"
      }
    },
    {
      "cell_type": "code",
      "execution_count": 41,
      "source": [
        "boots = []\r\n",
        "for i in range(100, 50000, 1000):\r\n",
        "    boot = bootstrap_mean_ci(data, data.shape[0], i, 80)\r\n",
        "    boots.append([i, boot[0], \"mean\"])\r\n",
        "    boots.append([i, boot[1], \"lower\"])\r\n",
        "    boots.append([i, boot[2], \"upper\"])\r\n",
        "\r\n",
        "df_boot = pd.DataFrame(boots, columns=['Boostrap Iterations', 'Mean', \"Value\"])\r\n",
        "sns_plot = sns.lmplot(df_boot.columns[0], df_boot.columns[1], data=df_boot, fit_reg=False, hue=\"Value\")\r\n",
        "\r\n",
        "sns_plot.axes[0, 0].set_ylim(0,)\r\n",
        "sns_plot.axes[0, 0].set_xlim(0, 50000)\r\n",
        "\r\n",
        "#sns_plot.savefig(\"bootstrap_confidence_80.pdf\", bbox_inches='tight')\r\n"
      ],
      "outputs": [
        {
          "output_type": "stream",
          "name": "stderr",
          "text": [
            "C:\\Python3\\lib\\site-packages\\seaborn\\_decorators.py:36: FutureWarning: Pass the following variables as keyword args: x, y. From version 0.12, the only valid positional argument will be `data`, and passing other arguments without an explicit keyword will result in an error or misinterpretation.\n",
            "  warnings.warn(\n"
          ]
        },
        {
          "output_type": "execute_result",
          "data": {
            "text/plain": [
              "(0.0, 50000.0)"
            ]
          },
          "metadata": {},
          "execution_count": 41
        },
        {
          "output_type": "display_data",
          "data": {
            "text/plain": [
              "<Figure size 425.125x360 with 1 Axes>"
            ],
            "image/png": "[encoded data removed]"
          },
          "metadata": {
            "needs_background": "light"
          }
        }
      ],
      "metadata": {
        "id": "uDnjq08GYl-C"
      }
    },
    {
      "cell_type": "markdown",
      "source": [
        "# Vehicles dataset\n",
        "\n",
        "Now let's work on a different dataset, which is stored in the vehicles.csv file.\n"
      ],
      "metadata": {
        "id": "qjNgXW6wdd7r"
      }
    },
    {
      "cell_type": "code",
      "execution_count": null,
      "source": [
        "# Load and visualise the vehicles dataset\r\n",
        "# To load the dataset: https://neptune.ai/blog/google-colab-dealing-with-files (check section \"Load individual files directly from GitHub\")\r\n",
        "\r\n",
        "\r\n",
        "# Note that the current and new fleets are in different columns and have different lengths, so bear this in mind when you're plotting.\r\n",
        "# You can create separate scatterplots for the two fleets, as you would with the histograms, \r\n",
        "# or plot them both in one plot (but not one against the other).\r\n",
        "# <---INSERT YOUR CODE HERE--->\r\n",
        "# Note: you can add more cells as needed to organise your code and your plots\r\n"
      ],
      "outputs": [],
      "metadata": {
        "id": "avWv4ipFdpka"
      }
    },
    {
      "cell_type": "markdown",
      "source": [
        "## Compare the two fleets\r\n",
        "\r\n",
        "The business analysts come up a comparison algorithm that requires the upper and lower bounds for the mean in order to say which fleet is better.\r\n",
        "1. Calculate the mean of both samples.\r\n",
        "2. Using the bootstrap function that you created:\r\n",
        "    - Construct the 95% CI of the mean of the current fleet.\r\n",
        "    - Construct the 95% CI of the mean of the new fleet.\r\n",
        "    - Are they comparable? (i.e., is one better than the other?) -- you can do this with a permutation test (check the lecture notes!)"
      ],
      "metadata": {
        "id": "B5d0tXDpIEj8"
      }
    },
    {
      "cell_type": "code",
      "execution_count": null,
      "source": [
        "# <---INSERT YOUR CODE HERE--->\r\n"
      ],
      "outputs": [],
      "metadata": {
        "id": "po4mp6zRHC0m"
      }
    },
    {
      "cell_type": "code",
      "execution_count": null,
      "source": [
        "# Create your own function for a permutation test here (you will need it for the lab quiz!):\r\n",
        "def permut_test(sample1, sample2, n_permutations):\r\n",
        "    \"\"\"\r\n",
        "    sample1: 1D array\r\n",
        "    sample2: 1D array (note that the size of the two arrays can be different)\r\n",
        "    n_permutations: number of permutations to calculate the p-value\r\n",
        "    \"\"\"\r\n",
        "    return pvalue"
      ],
      "outputs": [],
      "metadata": {
        "id": "MkxvDZG4HC0n"
      }
    }
  ]
}