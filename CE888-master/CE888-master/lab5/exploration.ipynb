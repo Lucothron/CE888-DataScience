{
  "cells": [
    {
      "cell_type": "code",
      "execution_count": 2,
      "source": [
        "%matplotlib inline\r\n",
        "import matplotlib\r\n",
        "import numpy as np\r\n",
        "import matplotlib.pyplot as plt\r\n",
        "import pandas as pd\r\n",
        "import seaborn as sns\r\n",
        "\r\n",
        "from sklearn.datasets import load_wine\r\n",
        "\r\n",
        "from sklearn.preprocessing import LabelEncoder, StandardScaler, OneHotEncoder\r\n",
        "from sklearn.decomposition import PCA\r\n",
        "from sklearn.cluster import KMeans\r\n",
        "from sklearn.metrics import silhouette_score"
      ],
      "outputs": [],
      "metadata": {
        "id": "X8ESUl-E7Kzt"
      }
    },
    {
      "cell_type": "markdown",
      "source": [
        "* We have loaded the necessary libraries above\n",
        "* Now let's load the data"
      ],
      "metadata": {
        "id": "VEiShHZj7K0Y"
      }
    },
    {
      "cell_type": "code",
      "execution_count": 3,
      "source": [
        "data = load_wine(as_frame=True)\r\n",
        "df = data.data.copy()  # features\r\n",
        "# Look at the documentation (https://scikit-learn.org/stable/modules/generated/sklearn.datasets.load_wine.html)\r\n",
        "# and save the label in a column called 'y' in df.\r\n",
        "df['y'] = data.target\r\n",
        "df.head()"
      ],
      "outputs": [
        {
          "output_type": "execute_result",
          "data": {
            "text/plain": [
              "   alcohol  malic_acid   ash  alcalinity_of_ash  magnesium  total_phenols  \\\n",
              "0    14.23        1.71  2.43               15.6      127.0           2.80   \n",
              "1    13.20        1.78  2.14               11.2      100.0           2.65   \n",
              "2    13.16        2.36  2.67               18.6      101.0           2.80   \n",
              "3    14.37        1.95  2.50               16.8      113.0           3.85   \n",
              "4    13.24        2.59  2.87               21.0      118.0           2.80   \n",
              "\n",
              "   flavanoids  nonflavanoid_phenols  proanthocyanins  color_intensity   hue  \\\n",
              "0        3.06                  0.28             2.29             5.64  1.04   \n",
              "1        2.76                  0.26             1.28             4.38  1.05   \n",
              "2        3.24                  0.30             2.81             5.68  1.03   \n",
              "3        3.49                  0.24             2.18             7.80  0.86   \n",
              "4        2.69                  0.39             1.82             4.32  1.04   \n",
              "\n",
              "   od280/od315_of_diluted_wines  proline  y  \n",
              "0                          3.92   1065.0  0  \n",
              "1                          3.40   1050.0  0  \n",
              "2                          3.17   1185.0  0  \n",
              "3                          3.45   1480.0  0  \n",
              "4                          2.93    735.0  0  "
            ],
            "text/html": [
              "<div>\n",
              "<style scoped>\n",
              "    .dataframe tbody tr th:only-of-type {\n",
              "        vertical-align: middle;\n",
              "    }\n",
              "\n",
              "    .dataframe tbody tr th {\n",
              "        vertical-align: top;\n",
              "    }\n",
              "\n",
              "    .dataframe thead th {\n",
              "        text-align: right;\n",
              "    }\n",
              "</style>\n",
              "<table border=\"1\" class=\"dataframe\">\n",
              "  <thead>\n",
              "    <tr style=\"text-align: right;\">\n",
              "      <th></th>\n",
              "      <th>alcohol</th>\n",
              "      <th>malic_acid</th>\n",
              "      <th>ash</th>\n",
              "      <th>alcalinity_of_ash</th>\n",
              "      <th>magnesium</th>\n",
              "      <th>total_phenols</th>\n",
              "      <th>flavanoids</th>\n",
              "      <th>nonflavanoid_phenols</th>\n",
              "      <th>proanthocyanins</th>\n",
              "      <th>color_intensity</th>\n",
              "      <th>hue</th>\n",
              "      <th>od280/od315_of_diluted_wines</th>\n",
              "      <th>proline</th>\n",
              "      <th>y</th>\n",
              "    </tr>\n",
              "  </thead>\n",
              "  <tbody>\n",
              "    <tr>\n",
              "      <th>0</th>\n",
              "      <td>14.23</td>\n",
              "      <td>1.71</td>\n",
              "      <td>2.43</td>\n",
              "      <td>15.6</td>\n",
              "      <td>127.0</td>\n",
              "      <td>2.80</td>\n",
              "      <td>3.06</td>\n",
              "      <td>0.28</td>\n",
              "      <td>2.29</td>\n",
              "      <td>5.64</td>\n",
              "      <td>1.04</td>\n",
              "      <td>3.92</td>\n",
              "      <td>1065.0</td>\n",
              "      <td>0</td>\n",
              "    </tr>\n",
              "    <tr>\n",
              "      <th>1</th>\n",
              "      <td>13.20</td>\n",
              "      <td>1.78</td>\n",
              "      <td>2.14</td>\n",
              "      <td>11.2</td>\n",
              "      <td>100.0</td>\n",
              "      <td>2.65</td>\n",
              "      <td>2.76</td>\n",
              "      <td>0.26</td>\n",
              "      <td>1.28</td>\n",
              "      <td>4.38</td>\n",
              "      <td>1.05</td>\n",
              "      <td>3.40</td>\n",
              "      <td>1050.0</td>\n",
              "      <td>0</td>\n",
              "    </tr>\n",
              "    <tr>\n",
              "      <th>2</th>\n",
              "      <td>13.16</td>\n",
              "      <td>2.36</td>\n",
              "      <td>2.67</td>\n",
              "      <td>18.6</td>\n",
              "      <td>101.0</td>\n",
              "      <td>2.80</td>\n",
              "      <td>3.24</td>\n",
              "      <td>0.30</td>\n",
              "      <td>2.81</td>\n",
              "      <td>5.68</td>\n",
              "      <td>1.03</td>\n",
              "      <td>3.17</td>\n",
              "      <td>1185.0</td>\n",
              "      <td>0</td>\n",
              "    </tr>\n",
              "    <tr>\n",
              "      <th>3</th>\n",
              "      <td>14.37</td>\n",
              "      <td>1.95</td>\n",
              "      <td>2.50</td>\n",
              "      <td>16.8</td>\n",
              "      <td>113.0</td>\n",
              "      <td>3.85</td>\n",
              "      <td>3.49</td>\n",
              "      <td>0.24</td>\n",
              "      <td>2.18</td>\n",
              "      <td>7.80</td>\n",
              "      <td>0.86</td>\n",
              "      <td>3.45</td>\n",
              "      <td>1480.0</td>\n",
              "      <td>0</td>\n",
              "    </tr>\n",
              "    <tr>\n",
              "      <th>4</th>\n",
              "      <td>13.24</td>\n",
              "      <td>2.59</td>\n",
              "      <td>2.87</td>\n",
              "      <td>21.0</td>\n",
              "      <td>118.0</td>\n",
              "      <td>2.80</td>\n",
              "      <td>2.69</td>\n",
              "      <td>0.39</td>\n",
              "      <td>1.82</td>\n",
              "      <td>4.32</td>\n",
              "      <td>1.04</td>\n",
              "      <td>2.93</td>\n",
              "      <td>735.0</td>\n",
              "      <td>0</td>\n",
              "    </tr>\n",
              "  </tbody>\n",
              "</table>\n",
              "</div>"
            ]
          },
          "metadata": {},
          "execution_count": 3
        }
      ],
      "metadata": {
        "id": "U2xMQ41u7K0m"
      }
    },
    {
      "cell_type": "code",
      "execution_count": 4,
      "source": [
        "#How many samples and features are there?\r\n",
        "\r\n",
        "samples, features = df.shape\r\n",
        "\r\n",
        "# YOUR CODE HERE\r\n",
        "print('number of samples:', str(samples), 'number of features:', str(features - 1))"
      ],
      "outputs": [
        {
          "output_type": "stream",
          "name": "stdout",
          "text": [
            "number of samples: 178 number of features: 13\n"
          ]
        }
      ],
      "metadata": {
        "id": "NKtLICR3iXZO"
      }
    },
    {
      "cell_type": "code",
      "execution_count": 5,
      "source": [
        "# Quiz Q1\r\n",
        "# How many instances are there for each class? \r\n",
        "\r\n",
        "# YOUR CODE HERE\r\n",
        "df_target = df['y']\r\n",
        "\r\n",
        "df_target.value_counts()"
      ],
      "outputs": [
        {
          "output_type": "execute_result",
          "data": {
            "text/plain": [
              "1    71\n",
              "0    59\n",
              "2    48\n",
              "Name: y, dtype: int64"
            ]
          },
          "metadata": {},
          "execution_count": 5
        }
      ],
      "metadata": {
        "id": "nSweHdOBiXZP"
      }
    },
    {
      "cell_type": "code",
      "execution_count": 6,
      "source": [
        "# Calculate the means, medians, and standard deviations of each feature\r\n",
        "# YOUR CODE HERE\r\n",
        "df_features = df.drop(['y'], axis = 1)\r\n",
        "\r\n",
        "df_means = df_features.mean()\r\n",
        "df_medians = df_features.median()\r\n",
        "df_stds = df_features.std()\r\n",
        "\r\n",
        "print(df_means)\r\n",
        "print(df_medians)\r\n",
        "print(df_stds)"
      ],
      "outputs": [
        {
          "output_type": "stream",
          "name": "stdout",
          "text": [
            "alcohol                          13.000618\n",
            "malic_acid                        2.336348\n",
            "ash                               2.366517\n",
            "alcalinity_of_ash                19.494944\n",
            "magnesium                        99.741573\n",
            "total_phenols                     2.295112\n",
            "flavanoids                        2.029270\n",
            "nonflavanoid_phenols              0.361854\n",
            "proanthocyanins                   1.590899\n",
            "color_intensity                   5.058090\n",
            "hue                               0.957449\n",
            "od280/od315_of_diluted_wines      2.611685\n",
            "proline                         746.893258\n",
            "dtype: float64\n",
            "alcohol                          13.050\n",
            "malic_acid                        1.865\n",
            "ash                               2.360\n",
            "alcalinity_of_ash                19.500\n",
            "magnesium                        98.000\n",
            "total_phenols                     2.355\n",
            "flavanoids                        2.135\n",
            "nonflavanoid_phenols              0.340\n",
            "proanthocyanins                   1.555\n",
            "color_intensity                   4.690\n",
            "hue                               0.965\n",
            "od280/od315_of_diluted_wines      2.780\n",
            "proline                         673.500\n",
            "dtype: float64\n",
            "alcohol                           0.811827\n",
            "malic_acid                        1.117146\n",
            "ash                               0.274344\n",
            "alcalinity_of_ash                 3.339564\n",
            "magnesium                        14.282484\n",
            "total_phenols                     0.625851\n",
            "flavanoids                        0.998859\n",
            "nonflavanoid_phenols              0.124453\n",
            "proanthocyanins                   0.572359\n",
            "color_intensity                   2.318286\n",
            "hue                               0.228572\n",
            "od280/od315_of_diluted_wines      0.709990\n",
            "proline                         314.907474\n",
            "dtype: float64\n"
          ]
        }
      ],
      "metadata": {
        "id": "CNkl_UR3iXZQ"
      }
    },
    {
      "cell_type": "code",
      "execution_count": 7,
      "source": [
        "# Plot a boxplot of each feature (NOT THE LABEL!!) (all in one plot -- you can do this with a single line of code).\r\n",
        "# Quiz Q2: Is there any feature that is in a clearly different scale than the others?\r\n",
        "\r\n",
        "# YOUR CODE HERE\r\n",
        "bx = sns.boxplot(data = df_features, orient = 'h')"
      ],
      "outputs": [
        {
          "output_type": "display_data",
          "data": {
            "text/plain": [
              "<Figure size 432x288 with 1 Axes>"
            ],
            "image/png": "[encoded data removed]"
          },
          "metadata": {
            "needs_background": "light"
          }
        }
      ],
      "metadata": {
        "id": "knoslC7IiXZR"
      }
    },
    {
      "cell_type": "code",
      "execution_count": 14,
      "source": [
        "# Let's look at the distributions of values of our features. Draw a histogram for each of the features\r\n",
        "\r\n",
        "# YOUR CODE HERE\r\n",
        "from matplotlib import rcParams\r\n",
        "\r\n",
        "rcParams['figure.figsize'] = 25, 10\r\n",
        "\r\n",
        "df_features.hist()"
      ],
      "outputs": [
        {
          "output_type": "execute_result",
          "data": {
            "text/plain": [
              "array([[<AxesSubplot:title={'center':'alcohol'}>,\n",
              "        <AxesSubplot:title={'center':'malic_acid'}>,\n",
              "        <AxesSubplot:title={'center':'ash'}>,\n",
              "        <AxesSubplot:title={'center':'alcalinity_of_ash'}>],\n",
              "       [<AxesSubplot:title={'center':'magnesium'}>,\n",
              "        <AxesSubplot:title={'center':'total_phenols'}>,\n",
              "        <AxesSubplot:title={'center':'flavanoids'}>,\n",
              "        <AxesSubplot:title={'center':'nonflavanoid_phenols'}>],\n",
              "       [<AxesSubplot:title={'center':'proanthocyanins'}>,\n",
              "        <AxesSubplot:title={'center':'color_intensity'}>,\n",
              "        <AxesSubplot:title={'center':'hue'}>,\n",
              "        <AxesSubplot:title={'center':'od280/od315_of_diluted_wines'}>],\n",
              "       [<AxesSubplot:title={'center':'proline'}>, <AxesSubplot:>,\n",
              "        <AxesSubplot:>, <AxesSubplot:>]], dtype=object)"
            ]
          },
          "metadata": {},
          "execution_count": 14
        },
        {
          "output_type": "display_data",
          "data": {
            "text/plain": [
              "<Figure size 1800x720 with 16 Axes>"
            ],
            "image/png": "[encoded data removed]"
          },
          "metadata": {
            "needs_background": "light"
          }
        }
      ],
      "metadata": {
        "scrolled": false,
        "id": "TPtp2IZKiXZS"
      }
    },
    {
      "cell_type": "markdown",
      "source": [
        "Let's do some multivariate analysis"
      ],
      "metadata": {
        "id": "vpirxqr9iXZT"
      }
    },
    {
      "cell_type": "code",
      "execution_count": 11,
      "source": [
        "# Calculate the correlations between each pair of variables\r\n",
        "\r\n",
        "# YOUR CODE HERE\r\n",
        "df_corr = df_features.corr()\r\n",
        "\r\n",
        "# Plot a heatmap of the correlations between pairs of FEATURES (i.e., don't include the target!)\r\n",
        "\r\n",
        "# YOUR CODE HERE\r\n",
        "sns.heatmap(df_corr, center=0, square=True, linewidths=.5, cmap=sns.diverging_palette(230, 20, as_cmap=True))"
      ],
      "outputs": [
        {
          "output_type": "execute_result",
          "data": {
            "text/plain": [
              "<AxesSubplot:>"
            ]
          },
          "metadata": {},
          "execution_count": 11
        },
        {
          "output_type": "display_data",
          "data": {
            "text/plain": [
              "<Figure size 432x288 with 2 Axes>"
            ],
            "image/png": "[encoded data removed]"
          },
          "metadata": {
            "needs_background": "light"
          }
        }
      ],
      "metadata": {
        "id": "fwLc3RDdiXZU"
      }
    },
    {
      "cell_type": "code",
      "execution_count": null,
      "source": [
        "# What is the highest correlation between features?\r\n",
        "\r\n"
      ],
      "outputs": [],
      "metadata": {
        "id": "AQ326VVsiXZW"
      }
    },
    {
      "cell_type": "markdown",
      "source": [
        "You should have noticed that some of the features are highly correlated. \n",
        "\n",
        "For this reason, we can run into trouble when trying to train a classifier due to multicolinearity.\n",
        "\n",
        "Let's do PCA on this dataset to remove these correlations"
      ],
      "metadata": {
        "id": "SWjkbzTWi5Ns"
      }
    },
    {
      "cell_type": "code",
      "execution_count": null,
      "source": [
        "# Let's do PCA:\r\n",
        "# HINT: I suggest you attempt Q5 of the quiz and then use the function you developed\r\n",
        "#       in this and some of the following cells.\r\n",
        "\r\n",
        "# 1. Standardise your data using a StandardScaler. Make sure you're not scaling the 'y'!\r\n",
        "\r\n",
        "# YOUR CODE HERE\r\n",
        "\r\n",
        "# 2. Do PCA with 2 components. How much variance is retained from the original dataset?\r\n",
        "\r\n",
        "# YOUR CODE HERE\r\n"
      ],
      "outputs": [],
      "metadata": {
        "id": "akqk41SwiXZX"
      }
    },
    {
      "cell_type": "code",
      "execution_count": null,
      "source": [
        "# Plot your two components, using the label from the data to colour the points\r\n",
        "\r\n",
        "# YOUR CODE HERE\r\n"
      ],
      "outputs": [],
      "metadata": {
        "id": "k7kjv4WHiXZY"
      }
    },
    {
      "cell_type": "code",
      "execution_count": null,
      "source": [
        "# How many components do you need to keep at least 85% of the variance in the dataset? (Q6)\r\n",
        "\r\n",
        "# YOUR CODE HERE\r\n"
      ],
      "outputs": [],
      "metadata": {
        "id": "bNpetshyiXZZ"
      }
    },
    {
      "cell_type": "code",
      "execution_count": null,
      "source": [
        "# How much variance is retained if we do PCA with 3 components? (Q7)\r\n",
        "\r\n",
        "# YOUR CODE HERE\r\n"
      ],
      "outputs": [],
      "metadata": {
        "id": "k1eDhjN1iXZY"
      }
    },
    {
      "cell_type": "markdown",
      "source": [
        "## Clustering"
      ],
      "metadata": {
        "id": "AvdemHgZiXZZ"
      }
    },
    {
      "cell_type": "markdown",
      "source": [
        "Let's see how many clusters does K-Means find.\n",
        "\n"
      ],
      "metadata": {
        "id": "7QTjJP_h7K3N"
      }
    },
    {
      "cell_type": "code",
      "execution_count": null,
      "source": [
        "# Use the elbow method to select the number of clusters in your data using 3 PCs.\r\n",
        "\r\n",
        "# YOUR CODE HERE\r\n"
      ],
      "outputs": [],
      "metadata": {
        "id": "JNDEKVYHybim"
      }
    },
    {
      "cell_type": "code",
      "execution_count": null,
      "source": [
        "# Now use the silhouette score to choose between the two candidate k values from the previous cell\r\n",
        "\r\n",
        "# YOUR CODE HERE\r\n"
      ],
      "outputs": [],
      "metadata": {
        "id": "anQy-uCZiXZa"
      }
    },
    {
      "cell_type": "code",
      "execution_count": null,
      "source": [
        "# Visualise the first two pcs (using a scatterplot) using the labels from KMeans with your chosen value of k\r\n",
        "\r\n",
        "# YOUR CODE HERE\r\n"
      ],
      "outputs": [],
      "metadata": {
        "id": "YGItp0Vh7K2_"
      }
    },
    {
      "cell_type": "markdown",
      "source": [
        "Now we can try to understand our clusters."
      ],
      "metadata": {
        "id": "MVVu-IUPiXZb"
      }
    },
    {
      "cell_type": "code",
      "execution_count": null,
      "source": [
        "# In the original (before PCA and before standardisation) dataframe, add a column called 'cluster' that contains\r\n",
        "# the cluster assignment from above\r\n",
        "\r\n",
        "# YOUR CODE HERE\r\n"
      ],
      "outputs": [],
      "metadata": {
        "id": "KvaUMdbB9HWK"
      }
    },
    {
      "cell_type": "code",
      "execution_count": null,
      "source": [
        "# Do a boxplot of each feature, separating between clusters\r\n",
        "\r\n",
        "# YOUR CODE HERE\r\n"
      ],
      "outputs": [],
      "metadata": {
        "id": "Q4J3swJhiXZc"
      }
    },
    {
      "cell_type": "markdown",
      "source": [
        "Write your observations here.\n",
        "For example: is there a clear difference between the clusters in terms of alcohol content? What about flavanoids?"
      ],
      "metadata": {
        "id": "XQlOvB_2iXZc"
      }
    },
    {
      "cell_type": "code",
      "execution_count": null,
      "source": [
        "# Feel free to keep playing with the data here!"
      ],
      "outputs": [],
      "metadata": {
        "id": "Eo6Y4Z5jiXZc"
      }
    }
  ],
  "metadata": {
    "colab": {
      "name": "exploration.ipynb",
      "provenance": [],
      "collapsed_sections": []
    },
    "kernelspec": {
      "name": "python3",
      "display_name": "Python 3.9.6 64-bit"
    },
    "language_info": {
      "codemirror_mode": {
        "name": "ipython",
        "version": 3
      },
      "file_extension": ".py",
      "mimetype": "text/x-python",
      "name": "python",
      "nbconvert_exporter": "python",
      "pygments_lexer": "ipython3",
      "version": "3.9.6"
    },
    "interpreter": {
      "hash": "ca585555a2867b459a38eaf8b2b47956aef7a6f770e52f1f5dfa1f8f05e57688"
    }
  },
  "nbformat": 4,
  "nbformat_minor": 2
}